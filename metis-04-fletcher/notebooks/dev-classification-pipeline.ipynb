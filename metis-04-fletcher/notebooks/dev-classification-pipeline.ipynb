{
 "cells": [
  {
   "cell_type": "markdown",
   "metadata": {},
   "source": [
    "### Libraries"
   ]
  },
  {
   "cell_type": "code",
   "execution_count": 1,
   "metadata": {
    "ExecuteTime": {
     "end_time": "2017-11-09T23:11:20.181426Z",
     "start_time": "2017-11-09T23:11:13.098760Z"
    }
   },
   "outputs": [
    {
     "name": "stderr",
     "output_type": "stream",
     "text": [
      "/Users/Joe/anaconda/lib/python3.6/site-packages/sklearn/cross_validation.py:41: DeprecationWarning: This module was deprecated in version 0.18 in favor of the model_selection module into which all the refactored classes and functions are moved. Also note that the interface of the new CV iterators are different from that of this module. This module will be removed in 0.20.\n",
      "  \"This module will be removed in 0.20.\", DeprecationWarning)\n"
     ]
    }
   ],
   "source": [
    "import sys\n",
    "sys.path.append('../python-scripts')\n",
    "from fletcher import *"
   ]
  },
  {
   "cell_type": "code",
   "execution_count": 2,
   "metadata": {
    "ExecuteTime": {
     "end_time": "2017-11-09T23:11:20.203082Z",
     "start_time": "2017-11-09T23:11:20.184427Z"
    },
    "collapsed": true
   },
   "outputs": [],
   "source": [
    "%matplotlib inline"
   ]
  },
  {
   "cell_type": "markdown",
   "metadata": {},
   "source": [
    "### Overall Classifier"
   ]
  },
  {
   "cell_type": "code",
   "execution_count": null,
   "metadata": {
    "ExecuteTime": {
     "end_time": "2017-11-09T03:35:02.071065Z",
     "start_time": "2017-11-09T03:35:01.668497Z"
    },
    "collapsed": true
   },
   "outputs": [],
   "source": [
    "x_train, x_val, y_train, y_val = load_and_split_data()"
   ]
  },
  {
   "cell_type": "code",
   "execution_count": null,
   "metadata": {
    "ExecuteTime": {
     "end_time": "2017-11-09T03:35:18.517719Z",
     "start_time": "2017-11-09T03:35:02.073395Z"
    }
   },
   "outputs": [],
   "source": [
    "overall = tweet_classifier(x_train, y_train)\n",
    "overall.build_model(max_df=0.7,\n",
    "                    max_features=6000,\n",
    "                    ngram_range=(1,3),\n",
    "                    boosted=False)\n",
    "overall.predict(x_train, y_train)\n",
    "print('Training Score: ', overall.score)\n",
    "overall.predict(x_val, y_val)\n",
    "print('Testing Score: ', overall.score)"
   ]
  },
  {
   "cell_type": "markdown",
   "metadata": {},
   "source": [
    "### Stage One:\n",
    "* Class 0 is a tweet with offensive language\n",
    "* Class 1 is a tweet with clean language  "
   ]
  },
  {
   "cell_type": "markdown",
   "metadata": {},
   "source": [
    "#### Data"
   ]
  },
  {
   "cell_type": "code",
   "execution_count": 3,
   "metadata": {
    "ExecuteTime": {
     "end_time": "2017-11-09T23:11:20.715251Z",
     "start_time": "2017-11-09T23:11:20.206353Z"
    },
    "collapsed": true
   },
   "outputs": [],
   "source": [
    "x1_train, x1_test, y1_train, y1_test = load_and_split_data(stage=1)"
   ]
  },
  {
   "cell_type": "code",
   "execution_count": 4,
   "metadata": {
    "ExecuteTime": {
     "end_time": "2017-11-09T23:11:20.738255Z",
     "start_time": "2017-11-09T23:11:20.718468Z"
    }
   },
   "outputs": [
    {
     "data": {
      "text/plain": [
       "1    11599\n",
       "0     2341\n",
       "Name: class_second, dtype: int64"
      ]
     },
     "execution_count": 4,
     "metadata": {},
     "output_type": "execute_result"
    }
   ],
   "source": [
    "y1_train.value_counts()"
   ]
  },
  {
   "cell_type": "code",
   "execution_count": 5,
   "metadata": {
    "ExecuteTime": {
     "end_time": "2017-11-09T23:11:20.751377Z",
     "start_time": "2017-11-09T23:11:20.742787Z"
    }
   },
   "outputs": [
    {
     "data": {
      "text/plain": [
       "1    3866\n",
       "0     781\n",
       "Name: class_second, dtype: int64"
      ]
     },
     "execution_count": 5,
     "metadata": {},
     "output_type": "execute_result"
    }
   ],
   "source": [
    "y1_test.value_counts()"
   ]
  },
  {
   "cell_type": "markdown",
   "metadata": {},
   "source": [
    "#### Helper functions"
   ]
  },
  {
   "cell_type": "markdown",
   "metadata": {},
   "source": [
    "#### First Classifier\n",
    "This model may be overfitting."
   ]
  },
  {
   "cell_type": "markdown",
   "metadata": {},
   "source": [
    "TFIDF with SVD is consistently performing best. I'll stick with those for now, and tune the classifier."
   ]
  },
  {
   "cell_type": "code",
   "execution_count": null,
   "metadata": {
    "ExecuteTime": {
     "end_time": "2017-11-09T03:35:19.127220Z",
     "start_time": "2017-11-09T03:35:19.123771Z"
    },
    "collapsed": true
   },
   "outputs": [],
   "source": [
    "params_one = {'n_estimators': [2, 5, 10, 15, 20, 30, 50]}"
   ]
  },
  {
   "cell_type": "code",
   "execution_count": null,
   "metadata": {
    "ExecuteTime": {
     "end_time": "2017-11-09T03:35:19.134856Z",
     "start_time": "2017-11-09T03:35:19.130845Z"
    },
    "collapsed": true
   },
   "outputs": [],
   "source": [
    "#stage_one = grid_search(x1_train, y1_train, x1_test, y1_test, params_one, plot=True)"
   ]
  },
  {
   "cell_type": "markdown",
   "metadata": {},
   "source": [
    "#### Build best model here:"
   ]
  },
  {
   "cell_type": "code",
   "execution_count": 6,
   "metadata": {
    "ExecuteTime": {
     "end_time": "2017-11-09T23:11:32.505254Z",
     "start_time": "2017-11-09T23:11:20.755381Z"
    },
    "code_folding": []
   },
   "outputs": [
    {
     "data": {
      "text/plain": [
       "0.95887221934816347"
      ]
     },
     "execution_count": 6,
     "metadata": {},
     "output_type": "execute_result"
    }
   ],
   "source": [
    "stage_one = tweet_classifier(x1_train, y1_train)\n",
    "stage_one.build_model(vectorizer_method='tfidf', reduction_method='SVD', n_estimators=20, boosted=False)\n",
    "stage_one.predict(x1_test, y1_test)\n",
    "stage_one.score"
   ]
  },
  {
   "cell_type": "markdown",
   "metadata": {},
   "source": [
    "### Stage Two:\n",
    "* Class 0 is hate speech\n",
    "* Class 1 is offensive but not hate speech"
   ]
  },
  {
   "cell_type": "markdown",
   "metadata": {},
   "source": [
    "#### Data"
   ]
  },
  {
   "cell_type": "code",
   "execution_count": 7,
   "metadata": {
    "ExecuteTime": {
     "end_time": "2017-11-09T23:11:33.052356Z",
     "start_time": "2017-11-09T23:11:32.509333Z"
    },
    "collapsed": true
   },
   "outputs": [],
   "source": [
    "x2_train, x2_test, y2_train, y2_test = load_and_split_data(stage=2)"
   ]
  },
  {
   "cell_type": "code",
   "execution_count": null,
   "metadata": {
    "ExecuteTime": {
     "end_time": "2017-11-09T23:08:59.704027Z",
     "start_time": "2017-11-09T23:08:59.696456Z"
    }
   },
   "outputs": [],
   "source": [
    "y2_train.value_counts()"
   ]
  },
  {
   "cell_type": "code",
   "execution_count": null,
   "metadata": {
    "ExecuteTime": {
     "end_time": "2017-11-09T23:08:59.735314Z",
     "start_time": "2017-11-09T23:08:59.723888Z"
    }
   },
   "outputs": [],
   "source": [
    "y2_test.value_counts()"
   ]
  },
  {
   "cell_type": "markdown",
   "metadata": {},
   "source": [
    "#### Second Classifier"
   ]
  },
  {
   "cell_type": "markdown",
   "metadata": {},
   "source": [
    "Changing the vectorizer, reduction method, and ngram range made little difference."
   ]
  },
  {
   "cell_type": "code",
   "execution_count": null,
   "metadata": {
    "ExecuteTime": {
     "end_time": "2017-11-09T03:35:27.946982Z",
     "start_time": "2017-11-09T03:35:27.922120Z"
    },
    "collapsed": true
   },
   "outputs": [],
   "source": [
    "params_two = {'n_estimators': [2, 5, 10, 15, 20, 30, 50]}"
   ]
  },
  {
   "cell_type": "code",
   "execution_count": null,
   "metadata": {
    "ExecuteTime": {
     "end_time": "2017-11-09T03:35:27.959766Z",
     "start_time": "2017-11-09T03:35:27.954960Z"
    },
    "collapsed": true
   },
   "outputs": [],
   "source": [
    "# stage_two = grid_search(x2_train, y2_train, x2_test, y2_test, params_two)"
   ]
  },
  {
   "cell_type": "markdown",
   "metadata": {},
   "source": [
    "#### Build Best Model here:"
   ]
  },
  {
   "cell_type": "code",
   "execution_count": 8,
   "metadata": {
    "ExecuteTime": {
     "end_time": "2017-11-09T23:12:26.374027Z",
     "start_time": "2017-11-09T23:11:33.054382Z"
    }
   },
   "outputs": [
    {
     "data": {
      "text/plain": [
       "0.10074626865671642"
      ]
     },
     "execution_count": 8,
     "metadata": {},
     "output_type": "execute_result"
    }
   ],
   "source": [
    "stage_two = tweet_classifier(x2_train, y2_train)\n",
    "stage_two.build_model(ngram_range=(1, 3),\n",
    "                      reduction_method=\"NMF\",\n",
    "                      vectorizer_method=\"tfidf\",\n",
    "                      n_estimators=20, boosted=False)\n",
    "stage_two.predict(x2_test, y2_test)\n",
    "stage_two.score"
   ]
  },
  {
   "cell_type": "markdown",
   "metadata": {},
   "source": [
    "### Validate Two Stage Process"
   ]
  },
  {
   "cell_type": "code",
   "execution_count": null,
   "metadata": {
    "ExecuteTime": {
     "end_time": "2017-11-09T03:37:31.539462Z",
     "start_time": "2017-11-09T03:37:31.160960Z"
    },
    "collapsed": true
   },
   "outputs": [],
   "source": [
    "x_val, y1_val, y2_val = load_and_split_data(stage=0)"
   ]
  },
  {
   "cell_type": "code",
   "execution_count": null,
   "metadata": {
    "ExecuteTime": {
     "end_time": "2017-11-09T03:37:31.558116Z",
     "start_time": "2017-11-09T03:37:31.541509Z"
    }
   },
   "outputs": [],
   "source": [
    "y1_val.value_counts()"
   ]
  },
  {
   "cell_type": "code",
   "execution_count": null,
   "metadata": {
    "ExecuteTime": {
     "end_time": "2017-11-09T03:37:31.573110Z",
     "start_time": "2017-11-09T03:37:31.560572Z"
    }
   },
   "outputs": [],
   "source": [
    "y2_val.value_counts()"
   ]
  },
  {
   "cell_type": "markdown",
   "metadata": {},
   "source": [
    "#### Two Stage Classifier"
   ]
  },
  {
   "cell_type": "code",
   "execution_count": 9,
   "metadata": {
    "ExecuteTime": {
     "end_time": "2017-11-09T23:12:26.913605Z",
     "start_time": "2017-11-09T23:12:26.377506Z"
    },
    "collapsed": true
   },
   "outputs": [],
   "source": [
    "x_val, y1_val, y2_val = load_and_split_data(stage=0)"
   ]
  },
  {
   "cell_type": "code",
   "execution_count": 10,
   "metadata": {
    "ExecuteTime": {
     "end_time": "2017-11-09T23:12:28.377024Z",
     "start_time": "2017-11-09T23:12:26.915626Z"
    }
   },
   "outputs": [
    {
     "data": {
      "text/plain": [
       "(0.95790494665373427, 0.0, 0.0)"
      ]
     },
     "execution_count": 10,
     "metadata": {},
     "output_type": "execute_result"
    }
   ],
   "source": [
    "model = hate_speech_classifier(stage_one, stage_two)\n",
    "model.predict(x_val,\n",
    "              y1_test=y1_val,\n",
    "              y2_test=y2_val)"
   ]
  },
  {
   "cell_type": "code",
   "execution_count": null,
   "metadata": {
    "collapsed": true
   },
   "outputs": [],
   "source": []
  }
 ],
 "metadata": {
  "kernelspec": {
   "display_name": "Python [conda root]",
   "language": "python",
   "name": "conda-root-py"
  },
  "language_info": {
   "codemirror_mode": {
    "name": "ipython",
    "version": 3
   },
   "file_extension": ".py",
   "mimetype": "text/x-python",
   "name": "python",
   "nbconvert_exporter": "python",
   "pygments_lexer": "ipython3",
   "version": "3.6.2"
  }
 },
 "nbformat": 4,
 "nbformat_minor": 2
}
