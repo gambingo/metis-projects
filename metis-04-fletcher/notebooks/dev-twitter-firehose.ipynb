{
 "cells": [
  {
   "cell_type": "markdown",
   "metadata": {},
   "source": [
    "### Libraries"
   ]
  },
  {
   "cell_type": "code",
   "execution_count": 1,
   "metadata": {
    "ExecuteTime": {
     "end_time": "2017-11-09T19:15:13.629280Z",
     "start_time": "2017-11-09T19:15:06.642497Z"
    }
   },
   "outputs": [
    {
     "name": "stderr",
     "output_type": "stream",
     "text": [
      "/Users/Joe/anaconda/lib/python3.6/site-packages/sklearn/cross_validation.py:41: DeprecationWarning: This module was deprecated in version 0.18 in favor of the model_selection module into which all the refactored classes and functions are moved. Also note that the interface of the new CV iterators are different from that of this module. This module will be removed in 0.20.\n",
      "  \"This module will be removed in 0.20.\", DeprecationWarning)\n"
     ]
    }
   ],
   "source": [
    "import sys\n",
    "sys.path.append('../python-scripts')\n",
    "from fletcher import *"
   ]
  },
  {
   "cell_type": "code",
   "execution_count": 2,
   "metadata": {
    "ExecuteTime": {
     "end_time": "2017-11-09T19:15:13.718451Z",
     "start_time": "2017-11-09T19:15:13.632218Z"
    },
    "collapsed": true
   },
   "outputs": [],
   "source": [
    "import requests\n",
    "from requests_oauthlib import OAuth1\n",
    "import cnfg\n",
    "import tweepy\n",
    "import pandas as pd"
   ]
  },
  {
   "cell_type": "code",
   "execution_count": 3,
   "metadata": {
    "ExecuteTime": {
     "end_time": "2017-11-09T19:15:13.731857Z",
     "start_time": "2017-11-09T19:15:13.720594Z"
    },
    "collapsed": true
   },
   "outputs": [],
   "source": [
    "config = cnfg.load(\".twitter_config\")\n",
    "auth = tweepy.OAuthHandler(config[\"consumer_key\"],\n",
    "                           config[\"consumer_secret\"])\n",
    "auth.set_access_token(config[\"access_token\"],\n",
    "                      config[\"access_token_secret\"])\n",
    "api=tweepy.API(auth)"
   ]
  },
  {
   "cell_type": "markdown",
   "metadata": {},
   "source": [
    "### Tweets sent to @bessbell"
   ]
  },
  {
   "cell_type": "code",
   "execution_count": 33,
   "metadata": {
    "ExecuteTime": {
     "end_time": "2017-11-09T19:30:41.262590Z",
     "start_time": "2017-11-09T19:30:35.874754Z"
    },
    "collapsed": true
   },
   "outputs": [],
   "source": [
    "results = []\n",
    "for tweet in tweepy.Cursor(api.search, q=\"to:bessbell\").items(1000):\n",
    "    results.append(tweet)"
   ]
  },
  {
   "cell_type": "code",
   "execution_count": 34,
   "metadata": {
    "ExecuteTime": {
     "end_time": "2017-11-09T19:30:41.272203Z",
     "start_time": "2017-11-09T19:30:41.264341Z"
    },
    "collapsed": true
   },
   "outputs": [],
   "source": [
    "def structure_results(results):\n",
    "    id_list=[tweet.id for tweet in results]\n",
    "    data=pd.DataFrame(id_list,columns=['id'])\n",
    "    \n",
    "    data[\"text\"]= [tweet.text.encode('utf-8') for tweet in results]\n",
    "    #data[\"datetime\"]=[tweet.created_at for tweet in results]\n",
    "    #data[\"Location\"]=[tweet.place for tweet in results]\n",
    "    \n",
    "    return data"
   ]
  },
  {
   "cell_type": "code",
   "execution_count": 35,
   "metadata": {
    "ExecuteTime": {
     "end_time": "2017-11-09T19:30:41.288938Z",
     "start_time": "2017-11-09T19:30:41.275188Z"
    },
    "collapsed": true
   },
   "outputs": [],
   "source": [
    "df = structure_results(results)\n",
    "save_pickle(df, 'bessbell_replies_3.pkl')"
   ]
  },
  {
   "cell_type": "markdown",
   "metadata": {},
   "source": [
    "### Classifier"
   ]
  },
  {
   "cell_type": "code",
   "execution_count": 96,
   "metadata": {
    "ExecuteTime": {
     "end_time": "2017-11-09T20:29:52.401031Z",
     "start_time": "2017-11-09T20:29:52.393482Z"
    }
   },
   "outputs": [],
   "source": [
    "df = load_pickle('bessbell_replies.pkl')\n",
    "tweets = df['text']"
   ]
  },
  {
   "cell_type": "code",
   "execution_count": 97,
   "metadata": {
    "ExecuteTime": {
     "end_time": "2017-11-09T20:29:53.204323Z",
     "start_time": "2017-11-09T20:29:53.079821Z"
    },
    "collapsed": true
   },
   "outputs": [],
   "source": [
    "stage_one = load_pickle('stage_one_model_nlp_params.pkl')\n",
    "stage_two = load_pickle('stage_two_model_nlp_params.pkl')"
   ]
  },
  {
   "cell_type": "code",
   "execution_count": 98,
   "metadata": {
    "ExecuteTime": {
     "end_time": "2017-11-09T20:29:56.767212Z",
     "start_time": "2017-11-09T20:29:56.572326Z"
    }
   },
   "outputs": [],
   "source": [
    "model = hate_speech_classifier(stage_one, stage_two)\n",
    "hate_tweets = model.predict(tweets)"
   ]
  },
  {
   "cell_type": "code",
   "execution_count": 99,
   "metadata": {
    "ExecuteTime": {
     "end_time": "2017-11-09T20:29:58.216316Z",
     "start_time": "2017-11-09T20:29:58.209606Z"
    }
   },
   "outputs": [
    {
     "name": "stdout",
     "output_type": "stream",
     "text": [
      "b'@bessbell Racist! Are trying to say all white balls are droopy? Sorry, just checked, they are!'\n",
      "b\"@bessbell Etiquette question: Wouldn't Wayne LaPierre's white droopy balls be in the mouths of GOP lawmakers?\"\n",
      "b'@bessbell Other way around. LaPierre lets Gop-ers lick his balls and take white supremacy facials so his army will\\xe2\\x80\\xa6 https://t.co/kEqtFIm1sl'\n",
      "b\"@bessbell TOO SOON to yank their white droopy balls out of Wayne LaPierre's mouth!\"\n",
      "b'@bessbell Benny the Heifer and Barry White  - bromance \\xf0\\x9f\\x98\\xbb https://t.co/wZ1jlTmavF'\n"
     ]
    }
   ],
   "source": [
    "for tweet in hate_tweets:\n",
    "    print(tweet)"
   ]
  },
  {
   "cell_type": "markdown",
   "metadata": {},
   "source": [
    "### Finding a specific tweet"
   ]
  },
  {
   "cell_type": "code",
   "execution_count": 61,
   "metadata": {
    "ExecuteTime": {
     "end_time": "2017-11-09T19:38:25.811778Z",
     "start_time": "2017-11-09T19:38:25.802073Z"
    }
   },
   "outputs": [
    {
     "data": {
      "text/html": [
       "<div>\n",
       "<style>\n",
       "    .dataframe thead tr:only-child th {\n",
       "        text-align: right;\n",
       "    }\n",
       "\n",
       "    .dataframe thead th {\n",
       "        text-align: left;\n",
       "    }\n",
       "\n",
       "    .dataframe tbody tr th {\n",
       "        vertical-align: top;\n",
       "    }\n",
       "</style>\n",
       "<table border=\"1\" class=\"dataframe\">\n",
       "  <thead>\n",
       "    <tr style=\"text-align: right;\">\n",
       "      <th></th>\n",
       "      <th>id</th>\n",
       "      <th>text</th>\n",
       "    </tr>\n",
       "  </thead>\n",
       "  <tbody>\n",
       "    <tr>\n",
       "      <th>901</th>\n",
       "      <td>927000655859986432</td>\n",
       "      <td>b'@lenadunham You are as stupid as you are fat...</td>\n",
       "    </tr>\n",
       "  </tbody>\n",
       "</table>\n",
       "</div>"
      ],
      "text/plain": [
       "                     id                                               text\n",
       "901  927000655859986432  b'@lenadunham You are as stupid as you are fat..."
      ]
     },
     "execution_count": 61,
     "metadata": {},
     "output_type": "execute_result"
    }
   ],
   "source": [
    "df.loc[df['text'] == b'@lenadunham You are as stupid as you are fat and ugly.']"
   ]
  },
  {
   "cell_type": "code",
   "execution_count": 74,
   "metadata": {
    "ExecuteTime": {
     "end_time": "2017-11-09T20:00:11.176508Z",
     "start_time": "2017-11-09T20:00:10.881805Z"
    }
   },
   "outputs": [],
   "source": [
    "hate_tweet = api.get_status(\"927000655859986432\")._json\n",
    "#hate_tweet"
   ]
  },
  {
   "cell_type": "code",
   "execution_count": 75,
   "metadata": {
    "ExecuteTime": {
     "end_time": "2017-11-09T20:00:13.577506Z",
     "start_time": "2017-11-09T20:00:13.417651Z"
    }
   },
   "outputs": [],
   "source": [
    "source_tweet = api.get_status(\"926659220312854528\")._json\n",
    "#source_tweet"
   ]
  },
  {
   "cell_type": "code",
   "execution_count": 94,
   "metadata": {
    "ExecuteTime": {
     "end_time": "2017-11-09T20:14:22.866649Z",
     "start_time": "2017-11-09T20:14:22.863215Z"
    },
    "collapsed": true
   },
   "outputs": [],
   "source": [
    "false_flag = load_pickle('potential-false-flags/quoting-abuse-1.pkl')"
   ]
  },
  {
   "cell_type": "code",
   "execution_count": 95,
   "metadata": {
    "ExecuteTime": {
     "end_time": "2017-11-09T20:14:26.604620Z",
     "start_time": "2017-11-09T20:14:26.597438Z"
    }
   },
   "outputs": [
    {
     "data": {
      "text/plain": [
       "{'search_metadata': {'completed_in': 0.012,\n",
       "  'count': 100,\n",
       "  'max_id': 924169828113330176,\n",
       "  'max_id_str': '924169828113330176',\n",
       "  'query': 'to%3Abessbell+cunt',\n",
       "  'refresh_url': '?since_id=924169828113330176&q=to%3Abessbell%20cunt&include_entities=1',\n",
       "  'since_id': 0,\n",
       "  'since_id_str': '0'},\n",
       " 'statuses': [{'contributors': None,\n",
       "   'coordinates': None,\n",
       "   'created_at': 'Sat Oct 28 07:03:51 +0000 2017',\n",
       "   'entities': {'hashtags': [],\n",
       "    'symbols': [],\n",
       "    'urls': [],\n",
       "    'user_mentions': [{'id': 36712233,\n",
       "      'id_str': '36712233',\n",
       "      'indices': [0, 9],\n",
       "      'name': 'Bess Kalb',\n",
       "      'screen_name': 'bessbell'}]},\n",
       "   'favorite_count': 0,\n",
       "   'favorited': False,\n",
       "   'geo': None,\n",
       "   'id': 924169828113330176,\n",
       "   'id_str': '924169828113330176',\n",
       "   'in_reply_to_screen_name': 'bessbell',\n",
       "   'in_reply_to_status_id': 924168783857455104,\n",
       "   'in_reply_to_status_id_str': '924168783857455104',\n",
       "   'in_reply_to_user_id': 36712233,\n",
       "   'in_reply_to_user_id_str': '36712233',\n",
       "   'is_quote_status': False,\n",
       "   'lang': 'en',\n",
       "   'metadata': {'iso_language_code': 'en', 'result_type': 'recent'},\n",
       "   'place': None,\n",
       "   'retweet_count': 0,\n",
       "   'retweeted': False,\n",
       "   'source': '<a href=\"http://twitter.com/#!/download/ipad\" rel=\"nofollow\">Twitter for iPad</a>',\n",
       "   'text': '@bessbell I had a guy post to me yesterday \"go hang yourself you Boomer cunt\". I wonder if they\\'re single.',\n",
       "   'truncated': False,\n",
       "   'user': {'contributors_enabled': False,\n",
       "    'created_at': 'Wed Jan 14 18:53:45 +0000 2009',\n",
       "    'default_profile': False,\n",
       "    'default_profile_image': False,\n",
       "    'description': 'The Constitution is my bible. #TeamPatriot  RE broker in Redlands, CA. Environmentalist, reader, gardener. Not a dating site! Hit on me, you will be blocked.',\n",
       "    'entities': {'description': {'urls': []},\n",
       "     'url': {'urls': [{'display_url': 'rhondarealtor.net',\n",
       "        'expanded_url': 'http://www.rhondarealtor.net',\n",
       "        'indices': [0, 23],\n",
       "        'url': 'https://t.co/NFKoHLyRF6'}]}},\n",
       "    'favourites_count': 17118,\n",
       "    'follow_request_sent': False,\n",
       "    'followers_count': 1052,\n",
       "    'following': False,\n",
       "    'friends_count': 768,\n",
       "    'geo_enabled': True,\n",
       "    'has_extended_profile': True,\n",
       "    'id': 18989467,\n",
       "    'id_str': '18989467',\n",
       "    'is_translation_enabled': False,\n",
       "    'is_translator': False,\n",
       "    'lang': 'en',\n",
       "    'listed_count': 19,\n",
       "    'location': 'Redlands, CA',\n",
       "    'name': 'Rhonda Stanton',\n",
       "    'notifications': False,\n",
       "    'profile_background_color': 'ABB8C2',\n",
       "    'profile_background_image_url': 'http://pbs.twimg.com/profile_background_images/378800000173524334/HMOYcKVr.jpeg',\n",
       "    'profile_background_image_url_https': 'https://pbs.twimg.com/profile_background_images/378800000173524334/HMOYcKVr.jpeg',\n",
       "    'profile_background_tile': False,\n",
       "    'profile_banner_url': 'https://pbs.twimg.com/profile_banners/18989467/1497159757',\n",
       "    'profile_image_url': 'http://pbs.twimg.com/profile_images/871213508079132672/LWmEe2zx_normal.jpg',\n",
       "    'profile_image_url_https': 'https://pbs.twimg.com/profile_images/871213508079132672/LWmEe2zx_normal.jpg',\n",
       "    'profile_link_color': '981CEB',\n",
       "    'profile_sidebar_border_color': 'FFFFFF',\n",
       "    'profile_sidebar_fill_color': 'A0C5C7',\n",
       "    'profile_text_color': '333333',\n",
       "    'profile_use_background_image': True,\n",
       "    'protected': False,\n",
       "    'screen_name': 'rhondarealtor',\n",
       "    'statuses_count': 6409,\n",
       "    'time_zone': 'Pacific Time (US & Canada)',\n",
       "    'translator_type': 'none',\n",
       "    'url': 'https://t.co/NFKoHLyRF6',\n",
       "    'utc_offset': -25200,\n",
       "    'verified': False}}]}"
      ]
     },
     "execution_count": 95,
     "metadata": {},
     "output_type": "execute_result"
    }
   ],
   "source": [
    "false_flag"
   ]
  },
  {
   "cell_type": "code",
   "execution_count": null,
   "metadata": {
    "collapsed": true
   },
   "outputs": [],
   "source": []
  }
 ],
 "metadata": {
  "kernelspec": {
   "display_name": "Python [conda root]",
   "language": "python",
   "name": "conda-root-py"
  },
  "language_info": {
   "codemirror_mode": {
    "name": "ipython",
    "version": 3
   },
   "file_extension": ".py",
   "mimetype": "text/x-python",
   "name": "python",
   "nbconvert_exporter": "python",
   "pygments_lexer": "ipython3",
   "version": "3.6.2"
  }
 },
 "nbformat": 4,
 "nbformat_minor": 2
}
