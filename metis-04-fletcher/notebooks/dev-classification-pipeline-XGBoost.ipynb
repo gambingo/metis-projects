{
 "cells": [
  {
   "cell_type": "markdown",
   "metadata": {},
   "source": [
    "### Libraries"
   ]
  },
  {
   "cell_type": "code",
   "execution_count": 1,
   "metadata": {
    "ExecuteTime": {
     "end_time": "2017-11-10T15:08:09.909260Z",
     "start_time": "2017-11-10T15:08:03.085433Z"
    }
   },
   "outputs": [
    {
     "name": "stderr",
     "output_type": "stream",
     "text": [
      "/Users/Joe/anaconda/lib/python3.6/site-packages/sklearn/cross_validation.py:41: DeprecationWarning: This module was deprecated in version 0.18 in favor of the model_selection module into which all the refactored classes and functions are moved. Also note that the interface of the new CV iterators are different from that of this module. This module will be removed in 0.20.\n",
      "  \"This module will be removed in 0.20.\", DeprecationWarning)\n"
     ]
    }
   ],
   "source": [
    "import sys\n",
    "sys.path.append('../python-scripts')\n",
    "from fletcher import *"
   ]
  },
  {
   "cell_type": "code",
   "execution_count": 2,
   "metadata": {
    "ExecuteTime": {
     "end_time": "2017-11-10T15:08:09.925809Z",
     "start_time": "2017-11-10T15:08:09.912056Z"
    },
    "collapsed": true
   },
   "outputs": [],
   "source": [
    "%matplotlib inline"
   ]
  },
  {
   "cell_type": "markdown",
   "metadata": {},
   "source": [
    "### Dummy Classifier"
   ]
  },
  {
   "cell_type": "code",
   "execution_count": 3,
   "metadata": {
    "ExecuteTime": {
     "end_time": "2017-11-10T15:08:10.376348Z",
     "start_time": "2017-11-10T15:08:09.928673Z"
    }
   },
   "outputs": [
    {
     "name": "stderr",
     "output_type": "stream",
     "text": [
      "/Users/Joe/anaconda/lib/python3.6/site-packages/sklearn/metrics/classification.py:1137: UndefinedMetricWarning: F-score is ill-defined and being set to 0.0 in labels with no true samples.\n",
      "  'recall', 'true', average, warn_for)\n"
     ]
    },
    {
     "data": {
      "text/plain": [
       "0.87280831419280014"
      ]
     },
     "execution_count": 3,
     "metadata": {},
     "output_type": "execute_result"
    }
   ],
   "source": [
    "dummy, actual = load_and_split_data(stage='dummy')\n",
    "f1_score(dummy, actual, average='weighted')"
   ]
  },
  {
   "cell_type": "markdown",
   "metadata": {},
   "source": [
    "### Overall Classifier"
   ]
  },
  {
   "cell_type": "code",
   "execution_count": 4,
   "metadata": {
    "ExecuteTime": {
     "end_time": "2017-11-10T15:08:10.882619Z",
     "start_time": "2017-11-10T15:08:10.379200Z"
    },
    "collapsed": true
   },
   "outputs": [],
   "source": [
    "x_train, x_val, y_train, y_val = load_and_split_data()"
   ]
  },
  {
   "cell_type": "code",
   "execution_count": null,
   "metadata": {
    "ExecuteTime": {
     "end_time": "2017-11-10T06:30:19.719849Z",
     "start_time": "2017-11-10T04:12:34.791506Z"
    }
   },
   "outputs": [],
   "source": [
    "params_overall = {'n_estimators': np.arange(20, 700, 10)}\n",
    "overall = grid_search(x_train, x_val, y_train, y_val,\n",
    "                      params_overall,\n",
    "                      summary_plot=True,\n",
    "                      print_steps=True,\n",
    "                      log_file=True,\n",
    "                      stage='Tuning Overall Classifier Overnight')"
   ]
  },
  {
   "cell_type": "code",
   "execution_count": 5,
   "metadata": {
    "ExecuteTime": {
     "end_time": "2017-11-10T15:08:28.890292Z",
     "start_time": "2017-11-10T15:08:10.884769Z"
    }
   },
   "outputs": [
    {
     "name": "stdout",
     "output_type": "stream",
     "text": [
      "Training Score:  0.875580610981\n",
      "Testing Score:  0.870467333223\n"
     ]
    }
   ],
   "source": [
    "overall = tweet_classifier(x_train, y_train)\n",
    "overall.build_model(boosted=True,\n",
    "                    n_estimators=50)\n",
    "overall.predict(x_train, y_train)\n",
    "print('Training Score: ', overall.score)\n",
    "overall.predict(x_val, y_val)\n",
    "print('Testing Score: ', overall.score)"
   ]
  },
  {
   "cell_type": "markdown",
   "metadata": {},
   "source": [
    "Test on false flag"
   ]
  },
  {
   "cell_type": "code",
   "execution_count": null,
   "metadata": {
    "ExecuteTime": {
     "end_time": "2017-11-10T03:09:17.958407Z",
     "start_time": "2017-11-10T03:09:17.950702Z"
    }
   },
   "outputs": [],
   "source": [
    "tweet = load_pickle('potential-false-flags/quoting-abuse-1.pkl')\n",
    "false_flag_tweet = [tweet['statuses'][0]['text']]\n",
    "false_flag_tweet"
   ]
  },
  {
   "cell_type": "code",
   "execution_count": null,
   "metadata": {
    "ExecuteTime": {
     "end_time": "2017-11-10T03:09:17.972187Z",
     "start_time": "2017-11-10T03:09:17.961045Z"
    }
   },
   "outputs": [],
   "source": [
    "overall.predict(false_flag_tweet, [1])\n",
    "overall.score"
   ]
  },
  {
   "cell_type": "markdown",
   "metadata": {},
   "source": [
    "Model correctly classifies this as offensive but not hate speech."
   ]
  },
  {
   "cell_type": "markdown",
   "metadata": {},
   "source": [
    "### Stage One:\n",
    "* Class 0 is a tweet with offensive language\n",
    "* Class 1 is a tweet with clean language  "
   ]
  },
  {
   "cell_type": "markdown",
   "metadata": {},
   "source": [
    "#### Data"
   ]
  },
  {
   "cell_type": "code",
   "execution_count": null,
   "metadata": {
    "ExecuteTime": {
     "end_time": "2017-11-10T03:04:38.550625Z",
     "start_time": "2017-11-10T03:04:38.050843Z"
    },
    "collapsed": true
   },
   "outputs": [],
   "source": [
    "x1_train, x1_test, y1_train, y1_test = load_and_split_data(stage=1)"
   ]
  },
  {
   "cell_type": "code",
   "execution_count": null,
   "metadata": {
    "ExecuteTime": {
     "end_time": "2017-11-09T23:06:06.747249Z",
     "start_time": "2017-11-09T23:06:06.721355Z"
    }
   },
   "outputs": [],
   "source": [
    "y1_train.value_counts()"
   ]
  },
  {
   "cell_type": "code",
   "execution_count": null,
   "metadata": {
    "ExecuteTime": {
     "end_time": "2017-11-09T23:06:06.762771Z",
     "start_time": "2017-11-09T23:06:06.754661Z"
    }
   },
   "outputs": [],
   "source": [
    "y1_test.value_counts()"
   ]
  },
  {
   "cell_type": "markdown",
   "metadata": {},
   "source": [
    "#### Helper functions"
   ]
  },
  {
   "cell_type": "markdown",
   "metadata": {},
   "source": [
    "#### First Classifier\n",
    "This model may be overfitting."
   ]
  },
  {
   "cell_type": "markdown",
   "metadata": {},
   "source": [
    "TFIDF with SVD is consistently performing best. I'll stick with those for now, and tune the classifier."
   ]
  },
  {
   "cell_type": "code",
   "execution_count": null,
   "metadata": {
    "ExecuteTime": {
     "end_time": "2017-11-08T20:33:05.678584Z",
     "start_time": "2017-11-08T20:33:05.670707Z"
    },
    "collapsed": true
   },
   "outputs": [],
   "source": [
    "params_one = {'ngram_range': [(1,2), (1,3)],\n",
    "              'max_df': [0.3, 0.4, 0.5, 0.6, 0.7],\n",
    "              'max_features': [2000, 3000, 4000, 5000, 6000]}"
   ]
  },
  {
   "cell_type": "code",
   "execution_count": null,
   "metadata": {
    "ExecuteTime": {
     "end_time": "2017-11-10T02:00:29.166544Z",
     "start_time": "2017-11-10T01:55:25.384506Z"
    }
   },
   "outputs": [],
   "source": [
    "stage_one = grid_search(x1_train, y1_train, x1_test, y1_test,\n",
    "                        params_two_estimators,\n",
    "                        summary_plot=False,\n",
    "                        print_steps=True,\n",
    "                        log_file=True,\n",
    "                        stage='Stage One')"
   ]
  },
  {
   "cell_type": "markdown",
   "metadata": {},
   "source": [
    "#### Build best model here:"
   ]
  },
  {
   "cell_type": "code",
   "execution_count": null,
   "metadata": {
    "ExecuteTime": {
     "end_time": "2017-11-10T03:04:58.121759Z",
     "start_time": "2017-11-10T03:04:41.350502Z"
    },
    "code_folding": []
   },
   "outputs": [],
   "source": [
    "stage_one = tweet_classifier(x1_train, y1_train)\n",
    "stage_one.build_model(boosted=True,\n",
    "                      n_estimators=560,\n",
    "                      max_df=0.5,\n",
    "                      max_features=5000,\n",
    "                      ngram_range=(1,3))\n",
    "stage_one.predict(x1_test, y1_test)\n",
    "stage_one.score"
   ]
  },
  {
   "cell_type": "code",
   "execution_count": null,
   "metadata": {
    "ExecuteTime": {
     "end_time": "2017-11-10T03:08:09.671324Z",
     "start_time": "2017-11-10T03:08:09.515317Z"
    },
    "collapsed": true
   },
   "outputs": [],
   "source": [
    "save_pickle(stage_one, 'stage_one_model_best_xgboost.pkl')"
   ]
  },
  {
   "cell_type": "markdown",
   "metadata": {},
   "source": [
    "### Stage Two:\n",
    "* Class 0 is hate speech\n",
    "* Class 1 is offensive but not hate speech"
   ]
  },
  {
   "cell_type": "markdown",
   "metadata": {},
   "source": [
    "#### Data"
   ]
  },
  {
   "cell_type": "code",
   "execution_count": null,
   "metadata": {
    "ExecuteTime": {
     "end_time": "2017-11-10T02:23:25.219613Z",
     "start_time": "2017-11-10T02:23:24.774341Z"
    },
    "collapsed": true
   },
   "outputs": [],
   "source": [
    "x2_train, x2_test, y2_train, y2_test = load_and_split_data(stage=2)"
   ]
  },
  {
   "cell_type": "code",
   "execution_count": null,
   "metadata": {
    "ExecuteTime": {
     "end_time": "2017-11-09T23:30:52.934702Z",
     "start_time": "2017-11-09T23:30:52.924905Z"
    }
   },
   "outputs": [],
   "source": [
    "y2_train.value_counts()"
   ]
  },
  {
   "cell_type": "code",
   "execution_count": null,
   "metadata": {
    "ExecuteTime": {
     "end_time": "2017-11-09T23:30:53.221609Z",
     "start_time": "2017-11-09T23:30:53.214692Z"
    }
   },
   "outputs": [],
   "source": [
    "y2_test.value_counts()"
   ]
  },
  {
   "cell_type": "markdown",
   "metadata": {},
   "source": [
    "#### Second Classifier"
   ]
  },
  {
   "cell_type": "markdown",
   "metadata": {},
   "source": [
    "Changing the vectorizer, reduction method, and ngram range made little difference."
   ]
  },
  {
   "cell_type": "code",
   "execution_count": null,
   "metadata": {
    "ExecuteTime": {
     "end_time": "2017-11-09T23:31:01.653363Z",
     "start_time": "2017-11-09T23:31:01.648183Z"
    },
    "collapsed": true
   },
   "outputs": [],
   "source": [
    "params_two = {'ngram_range': [(1,2), (1,3)],\n",
    "              'max_df': [0.4, 0.5, 0.6],\n",
    "              'max_features': [2000, 3000, 4000, 5000, 6000],\n",
    "              'n_estimators': [250, 275, 300, 325, 350, 375, 400],\n",
    "              'n_components': [30, 40, 50, 60, 70, 80, 90],\n",
    "              'max_depth': [2, 3]}"
   ]
  },
  {
   "cell_type": "code",
   "execution_count": null,
   "metadata": {
    "ExecuteTime": {
     "end_time": "2017-11-10T02:42:23.843122Z",
     "start_time": "2017-11-10T02:42:23.839560Z"
    },
    "collapsed": true
   },
   "outputs": [],
   "source": [
    "params_two_estimators = {'n_estimators': np.arange(10, 301, 10)}"
   ]
  },
  {
   "cell_type": "code",
   "execution_count": null,
   "metadata": {
    "ExecuteTime": {
     "end_time": "2017-11-10T02:59:00.484832Z",
     "start_time": "2017-11-10T02:42:27.484314Z"
    }
   },
   "outputs": [],
   "source": [
    "stage_two = grid_search(x2_train, y2_train, x2_test, y2_test,\n",
    "                        params_two_estimators,\n",
    "                        print_steps=True,\n",
    "                        summary_plot=True,\n",
    "                        log_file=True,\n",
    "                        stage='Stage Two Testing Estimators')"
   ]
  },
  {
   "cell_type": "markdown",
   "metadata": {},
   "source": [
    "#### Build Best Model here:"
   ]
  },
  {
   "cell_type": "code",
   "execution_count": null,
   "metadata": {
    "ExecuteTime": {
     "end_time": "2017-11-10T03:02:50.329918Z",
     "start_time": "2017-11-10T03:02:43.743341Z"
    }
   },
   "outputs": [],
   "source": [
    "stage_two = tweet_classifier(x2_train, y2_train)\n",
    "stage_two.build_model(boosted=True,\n",
    "                      n_estimators=50)\n",
    "stage_two.predict(x2_test, y2_test)\n",
    "stage_two.score"
   ]
  },
  {
   "cell_type": "code",
   "execution_count": null,
   "metadata": {
    "ExecuteTime": {
     "end_time": "2017-11-09T23:18:50.744324Z",
     "start_time": "2017-11-09T23:18:50.739387Z"
    }
   },
   "outputs": [],
   "source": [
    "len(stage_two.pred)"
   ]
  },
  {
   "cell_type": "code",
   "execution_count": null,
   "metadata": {
    "ExecuteTime": {
     "end_time": "2017-11-09T23:19:22.998961Z",
     "start_time": "2017-11-09T23:19:22.992732Z"
    }
   },
   "outputs": [],
   "source": [
    "len(stage_two.pred[stage_two.pred == 0])"
   ]
  },
  {
   "cell_type": "code",
   "execution_count": null,
   "metadata": {
    "ExecuteTime": {
     "end_time": "2017-11-09T23:19:38.736828Z",
     "start_time": "2017-11-09T23:19:38.730367Z"
    }
   },
   "outputs": [],
   "source": [
    "len(stage_two.pred[stage_two.pred == 1])"
   ]
  },
  {
   "cell_type": "code",
   "execution_count": null,
   "metadata": {
    "ExecuteTime": {
     "end_time": "2017-11-10T03:07:59.073157Z",
     "start_time": "2017-11-10T03:07:58.922968Z"
    },
    "collapsed": true
   },
   "outputs": [],
   "source": [
    "save_pickle(stage_two, 'stage_two_model_best_xgboost.pkl')"
   ]
  },
  {
   "cell_type": "markdown",
   "metadata": {},
   "source": [
    "### Validate Two Stage Process"
   ]
  },
  {
   "cell_type": "code",
   "execution_count": null,
   "metadata": {
    "ExecuteTime": {
     "end_time": "2017-11-10T03:06:42.526999Z",
     "start_time": "2017-11-10T03:06:42.139474Z"
    },
    "collapsed": true
   },
   "outputs": [],
   "source": [
    "x_val, y1_val, y2_val = load_and_split_data(stage=0)"
   ]
  },
  {
   "cell_type": "code",
   "execution_count": null,
   "metadata": {
    "ExecuteTime": {
     "end_time": "2017-11-09T22:56:14.592330Z",
     "start_time": "2017-11-09T22:56:14.582804Z"
    }
   },
   "outputs": [],
   "source": [
    "y1_val.value_counts()"
   ]
  },
  {
   "cell_type": "code",
   "execution_count": null,
   "metadata": {
    "ExecuteTime": {
     "end_time": "2017-11-09T22:56:14.608332Z",
     "start_time": "2017-11-09T22:56:14.597397Z"
    }
   },
   "outputs": [],
   "source": [
    "y2_val.value_counts()"
   ]
  },
  {
   "cell_type": "markdown",
   "metadata": {},
   "source": [
    "#### Two Stage Classifier"
   ]
  },
  {
   "cell_type": "code",
   "execution_count": null,
   "metadata": {
    "ExecuteTime": {
     "end_time": "2017-11-10T03:07:42.416108Z",
     "start_time": "2017-11-10T03:07:42.395734Z"
    }
   },
   "outputs": [],
   "source": [
    "stage_one = load_pickle('stage_one_model_best_xgboost.pkl')\n",
    "stage_two = load_pickle('stage_two_model_best_xgboost.pkl')"
   ]
  },
  {
   "cell_type": "code",
   "execution_count": null,
   "metadata": {
    "ExecuteTime": {
     "end_time": "2017-11-10T03:06:45.578339Z",
     "start_time": "2017-11-10T03:06:43.713192Z"
    }
   },
   "outputs": [],
   "source": [
    "model = hate_speech_classifier(stage_one, stage_two)\n",
    "model.predict(x_val,\n",
    "              y1_test=y1_val,\n",
    "              y2_test=y2_val)"
   ]
  },
  {
   "cell_type": "markdown",
   "metadata": {},
   "source": [
    "The first stage classifier is performing equally well on the training and testing data. The second stage classifier is performing too well on the training data and ok on the testing data. That model is probably overfitting."
   ]
  }
 ],
 "metadata": {
  "kernelspec": {
   "display_name": "Python [conda root]",
   "language": "python",
   "name": "conda-root-py"
  },
  "language_info": {
   "codemirror_mode": {
    "name": "ipython",
    "version": 3
   },
   "file_extension": ".py",
   "mimetype": "text/x-python",
   "name": "python",
   "nbconvert_exporter": "python",
   "pygments_lexer": "ipython3",
   "version": "3.6.2"
  }
 },
 "nbformat": 4,
 "nbformat_minor": 2
}
