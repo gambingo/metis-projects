{
 "cells": [
  {
   "cell_type": "markdown",
   "metadata": {},
   "source": [
    "### Libraries"
   ]
  },
  {
   "cell_type": "code",
   "execution_count": 4,
   "metadata": {
    "ExecuteTime": {
     "end_time": "2017-11-08T21:49:40.972294Z",
     "start_time": "2017-11-08T21:49:34.464628Z"
    }
   },
   "outputs": [
    {
     "name": "stderr",
     "output_type": "stream",
     "text": [
      "/Users/Joe/anaconda/lib/python3.6/site-packages/sklearn/cross_validation.py:41: DeprecationWarning: This module was deprecated in version 0.18 in favor of the model_selection module into which all the refactored classes and functions are moved. Also note that the interface of the new CV iterators are different from that of this module. This module will be removed in 0.20.\n",
      "  \"This module will be removed in 0.20.\", DeprecationWarning)\n"
     ]
    }
   ],
   "source": [
    "import sys\n",
    "sys.path.append('../python-scripts')\n",
    "from fletcher import *"
   ]
  },
  {
   "cell_type": "code",
   "execution_count": 5,
   "metadata": {
    "ExecuteTime": {
     "end_time": "2017-11-08T21:49:40.992031Z",
     "start_time": "2017-11-08T21:49:40.974894Z"
    },
    "collapsed": true
   },
   "outputs": [],
   "source": [
    "import pandas as pd\n",
    "import matplotlib.pyplot as plt\n",
    "import seaborn as sns"
   ]
  },
  {
   "cell_type": "code",
   "execution_count": 6,
   "metadata": {
    "ExecuteTime": {
     "end_time": "2017-11-08T21:49:41.009408Z",
     "start_time": "2017-11-08T21:49:40.995266Z"
    },
    "collapsed": true
   },
   "outputs": [],
   "source": [
    "%matplotlib inline"
   ]
  },
  {
   "cell_type": "markdown",
   "metadata": {},
   "source": [
    "## Crowdflower: Hate Speech Identification"
   ]
  },
  {
   "cell_type": "code",
   "execution_count": 7,
   "metadata": {
    "ExecuteTime": {
     "end_time": "2017-11-08T21:49:41.220016Z",
     "start_time": "2017-11-08T21:49:41.014125Z"
    },
    "collapsed": true
   },
   "outputs": [],
   "source": [
    "crowdflower = '../data/crowdflower-hate-speech-identification/data/twitter_hate_speech_classifier_dfe_a845520.csv'\n",
    "crowdflower = pd.read_csv(crowdflower)"
   ]
  },
  {
   "cell_type": "code",
   "execution_count": 8,
   "metadata": {
    "ExecuteTime": {
     "end_time": "2017-11-08T21:49:41.278329Z",
     "start_time": "2017-11-08T21:49:41.224020Z"
    },
    "scrolled": false
   },
   "outputs": [
    {
     "data": {
      "text/html": [
       "<div>\n",
       "<style>\n",
       "    .dataframe thead tr:only-child th {\n",
       "        text-align: right;\n",
       "    }\n",
       "\n",
       "    .dataframe thead th {\n",
       "        text-align: left;\n",
       "    }\n",
       "\n",
       "    .dataframe tbody tr th {\n",
       "        vertical-align: top;\n",
       "    }\n",
       "</style>\n",
       "<table border=\"1\" class=\"dataframe\">\n",
       "  <thead>\n",
       "    <tr style=\"text-align: right;\">\n",
       "      <th></th>\n",
       "      <th>unit_id</th>\n",
       "      <th>golden</th>\n",
       "      <th>unit_state</th>\n",
       "      <th>trusted_judgments</th>\n",
       "      <th>last_judgment_at</th>\n",
       "      <th>does_this_tweet_contain_hate_speech</th>\n",
       "      <th>does_this_tweet_contain_hate_speech_confidence</th>\n",
       "      <th>created_at</th>\n",
       "      <th>orig_golden</th>\n",
       "      <th>orig_last_judgment_at</th>\n",
       "      <th>orig_trusted_judgments</th>\n",
       "      <th>orig_unit_id</th>\n",
       "      <th>orig_unit_state</th>\n",
       "      <th>updated_at</th>\n",
       "      <th>orig_does_this_tweet_contain_hate_speech</th>\n",
       "      <th>does_this_tweet_contain_hate_speech_gold</th>\n",
       "      <th>does_this_tweet_contain_hate_speech_gold_reason</th>\n",
       "      <th>does_this_tweet_contain_hate_speechconfidence</th>\n",
       "      <th>tweet_id</th>\n",
       "      <th>tweet_text</th>\n",
       "    </tr>\n",
       "  </thead>\n",
       "  <tbody>\n",
       "    <tr>\n",
       "      <th>0</th>\n",
       "      <td>853718217</td>\n",
       "      <td>True</td>\n",
       "      <td>golden</td>\n",
       "      <td>86</td>\n",
       "      <td>NaN</td>\n",
       "      <td>The tweet uses offensive language but not hate...</td>\n",
       "      <td>0.6013</td>\n",
       "      <td>NaN</td>\n",
       "      <td>True</td>\n",
       "      <td>NaN</td>\n",
       "      <td>False</td>\n",
       "      <td>615561535.0</td>\n",
       "      <td>golden</td>\n",
       "      <td>NaN</td>\n",
       "      <td>The tweet contains hate speech</td>\n",
       "      <td>The tweet contains hate speech\\nThe tweet uses...</td>\n",
       "      <td>NaN</td>\n",
       "      <td>True</td>\n",
       "      <td>1666196150</td>\n",
       "      <td>Warning: penny boards will make you a faggot</td>\n",
       "    </tr>\n",
       "    <tr>\n",
       "      <th>1</th>\n",
       "      <td>853718218</td>\n",
       "      <td>True</td>\n",
       "      <td>golden</td>\n",
       "      <td>92</td>\n",
       "      <td>NaN</td>\n",
       "      <td>The tweet contains hate speech</td>\n",
       "      <td>0.7227</td>\n",
       "      <td>NaN</td>\n",
       "      <td>True</td>\n",
       "      <td>NaN</td>\n",
       "      <td>False</td>\n",
       "      <td>615561723.0</td>\n",
       "      <td>golden</td>\n",
       "      <td>NaN</td>\n",
       "      <td>The tweet contains hate speech</td>\n",
       "      <td>The tweet contains hate speech\\nThe tweet uses...</td>\n",
       "      <td>NaN</td>\n",
       "      <td>True</td>\n",
       "      <td>429512078</td>\n",
       "      <td>Fuck dykes</td>\n",
       "    </tr>\n",
       "    <tr>\n",
       "      <th>2</th>\n",
       "      <td>853718219</td>\n",
       "      <td>True</td>\n",
       "      <td>golden</td>\n",
       "      <td>86</td>\n",
       "      <td>NaN</td>\n",
       "      <td>The tweet contains hate speech</td>\n",
       "      <td>0.5229</td>\n",
       "      <td>NaN</td>\n",
       "      <td>True</td>\n",
       "      <td>NaN</td>\n",
       "      <td>False</td>\n",
       "      <td>615562039.0</td>\n",
       "      <td>golden</td>\n",
       "      <td>NaN</td>\n",
       "      <td>The tweet contains hate speech</td>\n",
       "      <td>The tweet contains hate speech\\nThe tweet uses...</td>\n",
       "      <td>NaN</td>\n",
       "      <td>True</td>\n",
       "      <td>395623778</td>\n",
       "      <td>@sizzurp__ @ILIKECATS74 @yoPapi_chulo @brandon...</td>\n",
       "    </tr>\n",
       "    <tr>\n",
       "      <th>3</th>\n",
       "      <td>853718220</td>\n",
       "      <td>True</td>\n",
       "      <td>golden</td>\n",
       "      <td>98</td>\n",
       "      <td>NaN</td>\n",
       "      <td>The tweet contains hate speech</td>\n",
       "      <td>0.5184</td>\n",
       "      <td>NaN</td>\n",
       "      <td>True</td>\n",
       "      <td>NaN</td>\n",
       "      <td>False</td>\n",
       "      <td>615562068.0</td>\n",
       "      <td>golden</td>\n",
       "      <td>NaN</td>\n",
       "      <td>The tweet contains hate speech</td>\n",
       "      <td>The tweet contains hate speech\\nThe tweet uses...</td>\n",
       "      <td>NaN</td>\n",
       "      <td>True</td>\n",
       "      <td>497514685</td>\n",
       "      <td>\"@jayswaggkillah: \"@JacklynAnnn: @jayswaggkill...</td>\n",
       "    </tr>\n",
       "    <tr>\n",
       "      <th>4</th>\n",
       "      <td>853718221</td>\n",
       "      <td>True</td>\n",
       "      <td>golden</td>\n",
       "      <td>88</td>\n",
       "      <td>NaN</td>\n",
       "      <td>The tweet uses offensive language but not hate...</td>\n",
       "      <td>0.5185</td>\n",
       "      <td>NaN</td>\n",
       "      <td>True</td>\n",
       "      <td>NaN</td>\n",
       "      <td>False</td>\n",
       "      <td>615562488.0</td>\n",
       "      <td>golden</td>\n",
       "      <td>NaN</td>\n",
       "      <td>The tweet contains hate speech</td>\n",
       "      <td>The tweet contains hate speech\\nThe tweet uses...</td>\n",
       "      <td>NaN</td>\n",
       "      <td>True</td>\n",
       "      <td>588923553</td>\n",
       "      <td>@Zhugstubble You heard me bitch but any way I'...</td>\n",
       "    </tr>\n",
       "  </tbody>\n",
       "</table>\n",
       "</div>"
      ],
      "text/plain": [
       "     unit_id  golden unit_state  trusted_judgments last_judgment_at  \\\n",
       "0  853718217    True     golden                 86              NaN   \n",
       "1  853718218    True     golden                 92              NaN   \n",
       "2  853718219    True     golden                 86              NaN   \n",
       "3  853718220    True     golden                 98              NaN   \n",
       "4  853718221    True     golden                 88              NaN   \n",
       "\n",
       "                 does_this_tweet_contain_hate_speech  \\\n",
       "0  The tweet uses offensive language but not hate...   \n",
       "1                     The tweet contains hate speech   \n",
       "2                     The tweet contains hate speech   \n",
       "3                     The tweet contains hate speech   \n",
       "4  The tweet uses offensive language but not hate...   \n",
       "\n",
       "   does_this_tweet_contain_hate_speech_confidence  created_at orig_golden  \\\n",
       "0                                          0.6013         NaN        True   \n",
       "1                                          0.7227         NaN        True   \n",
       "2                                          0.5229         NaN        True   \n",
       "3                                          0.5184         NaN        True   \n",
       "4                                          0.5185         NaN        True   \n",
       "\n",
       "   orig_last_judgment_at orig_trusted_judgments  orig_unit_id orig_unit_state  \\\n",
       "0                    NaN                  False   615561535.0          golden   \n",
       "1                    NaN                  False   615561723.0          golden   \n",
       "2                    NaN                  False   615562039.0          golden   \n",
       "3                    NaN                  False   615562068.0          golden   \n",
       "4                    NaN                  False   615562488.0          golden   \n",
       "\n",
       "   updated_at orig_does_this_tweet_contain_hate_speech  \\\n",
       "0         NaN           The tweet contains hate speech   \n",
       "1         NaN           The tweet contains hate speech   \n",
       "2         NaN           The tweet contains hate speech   \n",
       "3         NaN           The tweet contains hate speech   \n",
       "4         NaN           The tweet contains hate speech   \n",
       "\n",
       "            does_this_tweet_contain_hate_speech_gold  \\\n",
       "0  The tweet contains hate speech\\nThe tweet uses...   \n",
       "1  The tweet contains hate speech\\nThe tweet uses...   \n",
       "2  The tweet contains hate speech\\nThe tweet uses...   \n",
       "3  The tweet contains hate speech\\nThe tweet uses...   \n",
       "4  The tweet contains hate speech\\nThe tweet uses...   \n",
       "\n",
       "   does_this_tweet_contain_hate_speech_gold_reason  \\\n",
       "0                                              NaN   \n",
       "1                                              NaN   \n",
       "2                                              NaN   \n",
       "3                                              NaN   \n",
       "4                                              NaN   \n",
       "\n",
       "  does_this_tweet_contain_hate_speechconfidence    tweet_id  \\\n",
       "0                                          True  1666196150   \n",
       "1                                          True   429512078   \n",
       "2                                          True   395623778   \n",
       "3                                          True   497514685   \n",
       "4                                          True   588923553   \n",
       "\n",
       "                                          tweet_text  \n",
       "0       Warning: penny boards will make you a faggot  \n",
       "1                                         Fuck dykes  \n",
       "2  @sizzurp__ @ILIKECATS74 @yoPapi_chulo @brandon...  \n",
       "3  \"@jayswaggkillah: \"@JacklynAnnn: @jayswaggkill...  \n",
       "4  @Zhugstubble You heard me bitch but any way I'...  "
      ]
     },
     "execution_count": 8,
     "metadata": {},
     "output_type": "execute_result"
    }
   ],
   "source": [
    "crowdflower.head()"
   ]
  },
  {
   "cell_type": "code",
   "execution_count": 9,
   "metadata": {
    "ExecuteTime": {
     "end_time": "2017-11-08T21:49:41.304573Z",
     "start_time": "2017-11-08T21:49:41.281302Z"
    }
   },
   "outputs": [
    {
     "data": {
      "text/plain": [
       "The tweet is not offensive                               7274\n",
       "The tweet uses offensive language but not hate speech    4836\n",
       "The tweet contains hate speech                           2399\n",
       "Name: does_this_tweet_contain_hate_speech, dtype: int64"
      ]
     },
     "execution_count": 9,
     "metadata": {},
     "output_type": "execute_result"
    }
   ],
   "source": [
    "crowdflower['does_this_tweet_contain_hate_speech'].value_counts()"
   ]
  },
  {
   "cell_type": "markdown",
   "metadata": {},
   "source": [
    "## Thomas R Davidson: Hate Speech and Offensive Language"
   ]
  },
  {
   "cell_type": "code",
   "execution_count": 10,
   "metadata": {
    "ExecuteTime": {
     "end_time": "2017-11-08T21:49:41.414070Z",
     "start_time": "2017-11-08T21:49:41.307900Z"
    },
    "collapsed": true
   },
   "outputs": [],
   "source": [
    "davidson = '../data/thomasrdavidson-hate-speech-and-offensive-language/data/labeled_data.csv'\n",
    "davidson = pd.read_csv(davidson)"
   ]
  },
  {
   "cell_type": "code",
   "execution_count": 11,
   "metadata": {
    "ExecuteTime": {
     "end_time": "2017-11-08T21:49:41.476386Z",
     "start_time": "2017-11-08T21:49:41.416775Z"
    }
   },
   "outputs": [
    {
     "data": {
      "text/html": [
       "<div>\n",
       "<style>\n",
       "    .dataframe thead tr:only-child th {\n",
       "        text-align: right;\n",
       "    }\n",
       "\n",
       "    .dataframe thead th {\n",
       "        text-align: left;\n",
       "    }\n",
       "\n",
       "    .dataframe tbody tr th {\n",
       "        vertical-align: top;\n",
       "    }\n",
       "</style>\n",
       "<table border=\"1\" class=\"dataframe\">\n",
       "  <thead>\n",
       "    <tr style=\"text-align: right;\">\n",
       "      <th></th>\n",
       "      <th>column_a</th>\n",
       "      <th>count</th>\n",
       "      <th>hate_speech</th>\n",
       "      <th>offensive_language</th>\n",
       "      <th>neither</th>\n",
       "      <th>class</th>\n",
       "      <th>tweet</th>\n",
       "    </tr>\n",
       "  </thead>\n",
       "  <tbody>\n",
       "    <tr>\n",
       "      <th>0</th>\n",
       "      <td>0</td>\n",
       "      <td>3</td>\n",
       "      <td>0</td>\n",
       "      <td>0</td>\n",
       "      <td>3</td>\n",
       "      <td>2</td>\n",
       "      <td>!!! RT @mayasolovely: As a woman you shouldn't...</td>\n",
       "    </tr>\n",
       "    <tr>\n",
       "      <th>1</th>\n",
       "      <td>1</td>\n",
       "      <td>3</td>\n",
       "      <td>0</td>\n",
       "      <td>3</td>\n",
       "      <td>0</td>\n",
       "      <td>1</td>\n",
       "      <td>!!!!! RT @mleew17: boy dats cold...tyga dwn ba...</td>\n",
       "    </tr>\n",
       "    <tr>\n",
       "      <th>2</th>\n",
       "      <td>2</td>\n",
       "      <td>3</td>\n",
       "      <td>0</td>\n",
       "      <td>3</td>\n",
       "      <td>0</td>\n",
       "      <td>1</td>\n",
       "      <td>!!!!!!! RT @UrKindOfBrand Dawg!!!! RT @80sbaby...</td>\n",
       "    </tr>\n",
       "    <tr>\n",
       "      <th>3</th>\n",
       "      <td>3</td>\n",
       "      <td>3</td>\n",
       "      <td>0</td>\n",
       "      <td>2</td>\n",
       "      <td>1</td>\n",
       "      <td>1</td>\n",
       "      <td>!!!!!!!!! RT @C_G_Anderson: @viva_based she lo...</td>\n",
       "    </tr>\n",
       "    <tr>\n",
       "      <th>4</th>\n",
       "      <td>4</td>\n",
       "      <td>6</td>\n",
       "      <td>0</td>\n",
       "      <td>6</td>\n",
       "      <td>0</td>\n",
       "      <td>1</td>\n",
       "      <td>!!!!!!!!!!!!! RT @ShenikaRoberts: The shit you...</td>\n",
       "    </tr>\n",
       "  </tbody>\n",
       "</table>\n",
       "</div>"
      ],
      "text/plain": [
       "   column_a  count  hate_speech  offensive_language  neither  class  \\\n",
       "0         0      3            0                   0        3      2   \n",
       "1         1      3            0                   3        0      1   \n",
       "2         2      3            0                   3        0      1   \n",
       "3         3      3            0                   2        1      1   \n",
       "4         4      6            0                   6        0      1   \n",
       "\n",
       "                                               tweet  \n",
       "0  !!! RT @mayasolovely: As a woman you shouldn't...  \n",
       "1  !!!!! RT @mleew17: boy dats cold...tyga dwn ba...  \n",
       "2  !!!!!!! RT @UrKindOfBrand Dawg!!!! RT @80sbaby...  \n",
       "3  !!!!!!!!! RT @C_G_Anderson: @viva_based she lo...  \n",
       "4  !!!!!!!!!!!!! RT @ShenikaRoberts: The shit you...  "
      ]
     },
     "execution_count": 11,
     "metadata": {},
     "output_type": "execute_result"
    }
   ],
   "source": [
    "davidson.head()"
   ]
  },
  {
   "cell_type": "code",
   "execution_count": 34,
   "metadata": {
    "ExecuteTime": {
     "end_time": "2017-11-08T21:58:18.769594Z",
     "start_time": "2017-11-08T21:58:18.760838Z"
    }
   },
   "outputs": [
    {
     "data": {
      "text/plain": [
       "1    19190\n",
       "2     4163\n",
       "0     1430\n",
       "Name: class, dtype: int64"
      ]
     },
     "execution_count": 34,
     "metadata": {},
     "output_type": "execute_result"
    }
   ],
   "source": [
    "tweet_counts"
   ]
  },
  {
   "cell_type": "code",
   "execution_count": 39,
   "metadata": {
    "ExecuteTime": {
     "end_time": "2017-11-08T22:00:15.965909Z",
     "start_time": "2017-11-08T22:00:15.950894Z"
    }
   },
   "outputs": [
    {
     "data": {
      "text/html": [
       "<div>\n",
       "<style>\n",
       "    .dataframe thead tr:only-child th {\n",
       "        text-align: right;\n",
       "    }\n",
       "\n",
       "    .dataframe thead th {\n",
       "        text-align: left;\n",
       "    }\n",
       "\n",
       "    .dataframe tbody tr th {\n",
       "        vertical-align: top;\n",
       "    }\n",
       "</style>\n",
       "<table border=\"1\" class=\"dataframe\">\n",
       "  <thead>\n",
       "    <tr style=\"text-align: right;\">\n",
       "      <th></th>\n",
       "      <th>Tweets</th>\n",
       "    </tr>\n",
       "  </thead>\n",
       "  <tbody>\n",
       "    <tr>\n",
       "      <th>Offensive Language</th>\n",
       "      <td>19190</td>\n",
       "    </tr>\n",
       "    <tr>\n",
       "      <th>Neither</th>\n",
       "      <td>4163</td>\n",
       "    </tr>\n",
       "    <tr>\n",
       "      <th>Hate Speech</th>\n",
       "      <td>1430</td>\n",
       "    </tr>\n",
       "  </tbody>\n",
       "</table>\n",
       "</div>"
      ],
      "text/plain": [
       "                    Tweets\n",
       "Offensive Language   19190\n",
       "Neither               4163\n",
       "Hate Speech           1430"
      ]
     },
     "execution_count": 39,
     "metadata": {},
     "output_type": "execute_result"
    }
   ],
   "source": [
    "tweet_counts = davidson['class'].value_counts()\n",
    "tweet_counts = pd.DataFrame(tweet_counts)\n",
    "tweet_counts.index = tweet_counts.index.map(str)\n",
    "tweet_counts.rename(columns = {'class': 'Tweets'},\n",
    "                    index = {'0': 'Hate Speech', '1': 'Offensive Language', '2': 'Neither'},\n",
    "                    inplace=True)\n",
    "tweet_counts"
   ]
  },
  {
   "cell_type": "code",
   "execution_count": 69,
   "metadata": {
    "ExecuteTime": {
     "end_time": "2017-11-08T22:23:50.402713Z",
     "start_time": "2017-11-08T22:23:50.038079Z"
    }
   },
   "outputs": [
    {
     "data": {
      "image/png": "[encoded data removed]",
      "text/plain": [
       "<matplotlib.figure.Figure at 0x15b59ef28>"
      ]
     },
     "metadata": {},
     "output_type": "display_data"
    }
   ],
   "source": [
    "plt.figure(figsize=(12,8))\n",
    "sns.barplot(x=['Hate\\nSpeech', 'Offensive\\nLanguage', 'Neither'],\n",
    "            y=[1430, 19190, 4163],\n",
    "            color='#1DA1F2')\n",
    "plt.ylabel('Tweets', fontsize=22)\n",
    "plt.tick_params(axis='both', which='major', labelsize=18)\n",
    "plt.savefig('tweet value counts.png')"
   ]
  },
  {
   "cell_type": "markdown",
   "metadata": {},
   "source": [
    "This dataset is less balanced, but has more clean tweets. The curator has posted this as a \"cleaned\" version of the dataset. But it lacks a tweet ID, which I really need."
   ]
  },
  {
   "cell_type": "code",
   "execution_count": 2,
   "metadata": {
    "ExecuteTime": {
     "end_time": "2017-11-09T22:40:59.760043Z",
     "start_time": "2017-11-09T22:40:59.754185Z"
    }
   },
   "outputs": [
    {
     "data": {
      "text/plain": [
       "0.9422991566799822"
      ]
     },
     "execution_count": 2,
     "metadata": {},
     "output_type": "execute_result"
    }
   ],
   "source": [
    "# dummy model: No tweet has hate speech\n",
    "(24783 - 1430)/24783"
   ]
  },
  {
   "cell_type": "code",
   "execution_count": 3,
   "metadata": {
    "ExecuteTime": {
     "end_time": "2017-11-09T22:41:24.675431Z",
     "start_time": "2017-11-09T22:41:24.669309Z"
    }
   },
   "outputs": [
    {
     "data": {
      "text/plain": [
       "0.7743211072105879"
      ]
     },
     "execution_count": 3,
     "metadata": {},
     "output_type": "execute_result"
    }
   ],
   "source": [
    "# dummy model: all tweets are offenseive\n",
    "(24783 - 1430 - 4163)/24783"
   ]
  },
  {
   "cell_type": "markdown",
   "metadata": {},
   "source": [
    "## Merging the datasets."
   ]
  },
  {
   "cell_type": "markdown",
   "metadata": {},
   "source": [
    "I would of course prefer the \"cleaned\" dataset, but lacks tweet IDs. Can I merge on the tweet text to reclaim tweet IDs? Not all of the tweet IDs are valid anyway."
   ]
  },
  {
   "cell_type": "code",
   "execution_count": 9,
   "metadata": {},
   "outputs": [
    {
     "data": {
      "text/plain": [
       "(24783, 7)"
      ]
     },
     "execution_count": 9,
     "metadata": {},
     "output_type": "execute_result"
    }
   ],
   "source": [
    "davidson.shape"
   ]
  },
  {
   "cell_type": "code",
   "execution_count": 11,
   "metadata": {},
   "outputs": [
    {
     "data": {
      "text/plain": [
       "(14509, 20)"
      ]
     },
     "execution_count": 11,
     "metadata": {},
     "output_type": "execute_result"
    }
   ],
   "source": [
    "crowdflower.shape"
   ]
  },
  {
   "cell_type": "code",
   "execution_count": 5,
   "metadata": {},
   "outputs": [
    {
     "data": {
      "text/plain": [
       "14509"
      ]
     },
     "execution_count": 5,
     "metadata": {},
     "output_type": "execute_result"
    }
   ],
   "source": [
    "len(crowdflower['tweet_id'].dropna())"
   ]
  },
  {
   "cell_type": "code",
   "execution_count": 18,
   "metadata": {
    "collapsed": true
   },
   "outputs": [],
   "source": [
    "df = pd.merge(davidson, crowdflower[['tweet_text', 'tweet_id']], how='left', left_on='tweet', right_on='tweet_text')"
   ]
  },
  {
   "cell_type": "code",
   "execution_count": 19,
   "metadata": {},
   "outputs": [
    {
     "data": {
      "text/plain": [
       "(24783, 27)"
      ]
     },
     "execution_count": 19,
     "metadata": {},
     "output_type": "execute_result"
    }
   ],
   "source": [
    "df.shape"
   ]
  },
  {
   "cell_type": "code",
   "execution_count": 20,
   "metadata": {},
   "outputs": [
    {
     "data": {
      "text/plain": [
       "10"
      ]
     },
     "execution_count": 20,
     "metadata": {},
     "output_type": "execute_result"
    }
   ],
   "source": [
    "len(df['tweet_id'].dropna())"
   ]
  },
  {
   "cell_type": "code",
   "execution_count": 23,
   "metadata": {},
   "outputs": [
    {
     "data": {
      "text/plain": [
       "0    !!! RT @mayasolovely: As a woman you shouldn't...\n",
       "1    !!!!! RT @mleew17: boy dats cold...tyga dwn ba...\n",
       "2    !!!!!!! RT @UrKindOfBrand Dawg!!!! RT @80sbaby...\n",
       "3    !!!!!!!!! RT @C_G_Anderson: @viva_based she lo...\n",
       "4    !!!!!!!!!!!!! RT @ShenikaRoberts: The shit you...\n",
       "Name: tweet, dtype: object"
      ]
     },
     "execution_count": 23,
     "metadata": {},
     "output_type": "execute_result"
    }
   ],
   "source": [
    "davidson['tweet'].head()"
   ]
  },
  {
   "cell_type": "code",
   "execution_count": 24,
   "metadata": {},
   "outputs": [
    {
     "data": {
      "text/plain": [
       "0         Warning: penny boards will make you a faggot\n",
       "1                                           Fuck dykes\n",
       "2    @sizzurp__ @ILIKECATS74 @yoPapi_chulo @brandon...\n",
       "3    \"@jayswaggkillah: \"@JacklynAnnn: @jayswaggkill...\n",
       "4    @Zhugstubble You heard me bitch but any way I'...\n",
       "Name: tweet_text, dtype: object"
      ]
     },
     "execution_count": 24,
     "metadata": {},
     "output_type": "execute_result"
    }
   ],
   "source": [
    "crowdflower['tweet_text'].head()"
   ]
  },
  {
   "cell_type": "markdown",
   "metadata": {},
   "source": [
    "The tweet IDs aren't valid anyway. No point in merging the datasets."
   ]
  },
  {
   "cell_type": "code",
   "execution_count": 26,
   "metadata": {},
   "outputs": [
    {
     "data": {
      "text/plain": [
       "63"
      ]
     },
     "execution_count": 26,
     "metadata": {},
     "output_type": "execute_result"
    }
   ],
   "source": [
    "len(set(crowdflower['tweet_id']))"
   ]
  },
  {
   "cell_type": "markdown",
   "metadata": {},
   "source": [
    "### Reviewing Reviewer Count"
   ]
  },
  {
   "cell_type": "markdown",
   "metadata": {},
   "source": [
    "Don't think there's anything super significant here."
   ]
  },
  {
   "cell_type": "code",
   "execution_count": 29,
   "metadata": {},
   "outputs": [
    {
     "data": {
      "text/plain": [
       "3    22807\n",
       "6     1571\n",
       "4      211\n",
       "9      167\n",
       "7       27\n",
       "Name: count, dtype: int64"
      ]
     },
     "execution_count": 29,
     "metadata": {},
     "output_type": "execute_result"
    }
   ],
   "source": [
    "davidson['count'].value_counts()"
   ]
  },
  {
   "cell_type": "markdown",
   "metadata": {},
   "source": [
    "### Simplifying for a Two-Stage Classifier"
   ]
  },
  {
   "cell_type": "code",
   "execution_count": 27,
   "metadata": {},
   "outputs": [
    {
     "data": {
      "text/html": [
       "<div>\n",
       "<style>\n",
       "    .dataframe thead tr:only-child th {\n",
       "        text-align: right;\n",
       "    }\n",
       "\n",
       "    .dataframe thead th {\n",
       "        text-align: left;\n",
       "    }\n",
       "\n",
       "    .dataframe tbody tr th {\n",
       "        vertical-align: top;\n",
       "    }\n",
       "</style>\n",
       "<table border=\"1\" class=\"dataframe\">\n",
       "  <thead>\n",
       "    <tr style=\"text-align: right;\">\n",
       "      <th></th>\n",
       "      <th>column_a</th>\n",
       "      <th>count</th>\n",
       "      <th>hate_speech</th>\n",
       "      <th>offensive_language</th>\n",
       "      <th>neither</th>\n",
       "      <th>class</th>\n",
       "      <th>tweet</th>\n",
       "    </tr>\n",
       "  </thead>\n",
       "  <tbody>\n",
       "    <tr>\n",
       "      <th>0</th>\n",
       "      <td>0</td>\n",
       "      <td>3</td>\n",
       "      <td>0</td>\n",
       "      <td>0</td>\n",
       "      <td>3</td>\n",
       "      <td>2</td>\n",
       "      <td>!!! RT @mayasolovely: As a woman you shouldn't...</td>\n",
       "    </tr>\n",
       "    <tr>\n",
       "      <th>1</th>\n",
       "      <td>1</td>\n",
       "      <td>3</td>\n",
       "      <td>0</td>\n",
       "      <td>3</td>\n",
       "      <td>0</td>\n",
       "      <td>1</td>\n",
       "      <td>!!!!! RT @mleew17: boy dats cold...tyga dwn ba...</td>\n",
       "    </tr>\n",
       "  </tbody>\n",
       "</table>\n",
       "</div>"
      ],
      "text/plain": [
       "   column_a  count  hate_speech  offensive_language  neither  class  \\\n",
       "0         0      3            0                   0        3      2   \n",
       "1         1      3            0                   3        0      1   \n",
       "\n",
       "                                               tweet  \n",
       "0  !!! RT @mayasolovely: As a woman you shouldn't...  \n",
       "1  !!!!! RT @mleew17: boy dats cold...tyga dwn ba...  "
      ]
     },
     "execution_count": 27,
     "metadata": {},
     "output_type": "execute_result"
    }
   ],
   "source": [
    "davidson.head(2)"
   ]
  },
  {
   "cell_type": "code",
   "execution_count": 36,
   "metadata": {
    "collapsed": true
   },
   "outputs": [],
   "source": [
    "data = davidson[['class', 'tweet']]"
   ]
  },
  {
   "cell_type": "code",
   "execution_count": 39,
   "metadata": {},
   "outputs": [
    {
     "name": "stderr",
     "output_type": "stream",
     "text": [
      "/Users/Joe/anaconda/lib/python3.6/site-packages/ipykernel/__main__.py:1: SettingWithCopyWarning: \n",
      "A value is trying to be set on a copy of a slice from a DataFrame.\n",
      "Try using .loc[row_indexer,col_indexer] = value instead\n",
      "\n",
      "See the caveats in the documentation: http://pandas.pydata.org/pandas-docs/stable/indexing.html#indexing-view-versus-copy\n",
      "  if __name__ == '__main__':\n",
      "/Users/Joe/anaconda/lib/python3.6/site-packages/pandas/core/frame.py:2746: SettingWithCopyWarning: \n",
      "A value is trying to be set on a copy of a slice from a DataFrame\n",
      "\n",
      "See the caveats in the documentation: http://pandas.pydata.org/pandas-docs/stable/indexing.html#indexing-view-versus-copy\n",
      "  **kwargs)\n"
     ]
    }
   ],
   "source": [
    "data['class_first'] = data['class'].apply(lambda x: 0 if x<2 else 1)\n",
    "data.rename(columns={'class': 'class_second'}, inplace=True)"
   ]
  },
  {
   "cell_type": "code",
   "execution_count": 40,
   "metadata": {},
   "outputs": [
    {
     "data": {
      "text/html": [
       "<div>\n",
       "<style>\n",
       "    .dataframe thead tr:only-child th {\n",
       "        text-align: right;\n",
       "    }\n",
       "\n",
       "    .dataframe thead th {\n",
       "        text-align: left;\n",
       "    }\n",
       "\n",
       "    .dataframe tbody tr th {\n",
       "        vertical-align: top;\n",
       "    }\n",
       "</style>\n",
       "<table border=\"1\" class=\"dataframe\">\n",
       "  <thead>\n",
       "    <tr style=\"text-align: right;\">\n",
       "      <th></th>\n",
       "      <th>class_second</th>\n",
       "      <th>tweet</th>\n",
       "      <th>class_first</th>\n",
       "    </tr>\n",
       "  </thead>\n",
       "  <tbody>\n",
       "    <tr>\n",
       "      <th>0</th>\n",
       "      <td>2</td>\n",
       "      <td>!!! RT @mayasolovely: As a woman you shouldn't...</td>\n",
       "      <td>1</td>\n",
       "    </tr>\n",
       "    <tr>\n",
       "      <th>1</th>\n",
       "      <td>1</td>\n",
       "      <td>!!!!! RT @mleew17: boy dats cold...tyga dwn ba...</td>\n",
       "      <td>0</td>\n",
       "    </tr>\n",
       "    <tr>\n",
       "      <th>2</th>\n",
       "      <td>1</td>\n",
       "      <td>!!!!!!! RT @UrKindOfBrand Dawg!!!! RT @80sbaby...</td>\n",
       "      <td>0</td>\n",
       "    </tr>\n",
       "    <tr>\n",
       "      <th>3</th>\n",
       "      <td>1</td>\n",
       "      <td>!!!!!!!!! RT @C_G_Anderson: @viva_based she lo...</td>\n",
       "      <td>0</td>\n",
       "    </tr>\n",
       "    <tr>\n",
       "      <th>4</th>\n",
       "      <td>1</td>\n",
       "      <td>!!!!!!!!!!!!! RT @ShenikaRoberts: The shit you...</td>\n",
       "      <td>0</td>\n",
       "    </tr>\n",
       "    <tr>\n",
       "      <th>5</th>\n",
       "      <td>1</td>\n",
       "      <td>!!!!!!!!!!!!!!!!!!\"@T_Madison_x: The shit just...</td>\n",
       "      <td>0</td>\n",
       "    </tr>\n",
       "    <tr>\n",
       "      <th>6</th>\n",
       "      <td>1</td>\n",
       "      <td>!!!!!!\"@__BrighterDays: I can not just sit up ...</td>\n",
       "      <td>0</td>\n",
       "    </tr>\n",
       "    <tr>\n",
       "      <th>7</th>\n",
       "      <td>1</td>\n",
       "      <td>!!!!&amp;#8220;@selfiequeenbri: cause I'm tired of...</td>\n",
       "      <td>0</td>\n",
       "    </tr>\n",
       "    <tr>\n",
       "      <th>8</th>\n",
       "      <td>1</td>\n",
       "      <td>\" &amp;amp; you might not get ya bitch back &amp;amp; ...</td>\n",
       "      <td>0</td>\n",
       "    </tr>\n",
       "    <tr>\n",
       "      <th>9</th>\n",
       "      <td>1</td>\n",
       "      <td>\" @rhythmixx_ :hobbies include: fighting Maria...</td>\n",
       "      <td>0</td>\n",
       "    </tr>\n",
       "    <tr>\n",
       "      <th>10</th>\n",
       "      <td>1</td>\n",
       "      <td>\" Keeks is a bitch she curves everyone \" lol I...</td>\n",
       "      <td>0</td>\n",
       "    </tr>\n",
       "    <tr>\n",
       "      <th>11</th>\n",
       "      <td>1</td>\n",
       "      <td>\" Murda Gang bitch its Gang Land \"</td>\n",
       "      <td>0</td>\n",
       "    </tr>\n",
       "    <tr>\n",
       "      <th>12</th>\n",
       "      <td>1</td>\n",
       "      <td>\" So hoes that smoke are losers ? \" yea ... go...</td>\n",
       "      <td>0</td>\n",
       "    </tr>\n",
       "    <tr>\n",
       "      <th>13</th>\n",
       "      <td>1</td>\n",
       "      <td>\" bad bitches is the only thing that i like \"</td>\n",
       "      <td>0</td>\n",
       "    </tr>\n",
       "    <tr>\n",
       "      <th>14</th>\n",
       "      <td>1</td>\n",
       "      <td>\" bitch get up off me \"</td>\n",
       "      <td>0</td>\n",
       "    </tr>\n",
       "    <tr>\n",
       "      <th>15</th>\n",
       "      <td>1</td>\n",
       "      <td>\" bitch nigga miss me with it \"</td>\n",
       "      <td>0</td>\n",
       "    </tr>\n",
       "    <tr>\n",
       "      <th>16</th>\n",
       "      <td>1</td>\n",
       "      <td>\" bitch plz whatever \"</td>\n",
       "      <td>0</td>\n",
       "    </tr>\n",
       "    <tr>\n",
       "      <th>17</th>\n",
       "      <td>1</td>\n",
       "      <td>\" bitch who do you love \"</td>\n",
       "      <td>0</td>\n",
       "    </tr>\n",
       "    <tr>\n",
       "      <th>18</th>\n",
       "      <td>1</td>\n",
       "      <td>\" bitches get cut off everyday B \"</td>\n",
       "      <td>0</td>\n",
       "    </tr>\n",
       "    <tr>\n",
       "      <th>19</th>\n",
       "      <td>1</td>\n",
       "      <td>\" black bottle &amp;amp; a bad bitch \"</td>\n",
       "      <td>0</td>\n",
       "    </tr>\n",
       "    <tr>\n",
       "      <th>20</th>\n",
       "      <td>1</td>\n",
       "      <td>\" broke bitch cant tell me nothing \"</td>\n",
       "      <td>0</td>\n",
       "    </tr>\n",
       "    <tr>\n",
       "      <th>21</th>\n",
       "      <td>1</td>\n",
       "      <td>\" cancel that bitch like Nino \"</td>\n",
       "      <td>0</td>\n",
       "    </tr>\n",
       "    <tr>\n",
       "      <th>22</th>\n",
       "      <td>1</td>\n",
       "      <td>\" cant you see these hoes wont change \"</td>\n",
       "      <td>0</td>\n",
       "    </tr>\n",
       "    <tr>\n",
       "      <th>23</th>\n",
       "      <td>1</td>\n",
       "      <td>\" fuck no that bitch dont even suck dick \" &amp;#1...</td>\n",
       "      <td>0</td>\n",
       "    </tr>\n",
       "    <tr>\n",
       "      <th>24</th>\n",
       "      <td>1</td>\n",
       "      <td>\" got ya bitch tip toeing on my hardwood floor...</td>\n",
       "      <td>0</td>\n",
       "    </tr>\n",
       "    <tr>\n",
       "      <th>25</th>\n",
       "      <td>1</td>\n",
       "      <td>\" her pussy lips like Heaven doors \" &amp;#128524;</td>\n",
       "      <td>0</td>\n",
       "    </tr>\n",
       "    <tr>\n",
       "      <th>26</th>\n",
       "      <td>1</td>\n",
       "      <td>\" hoe what its hitting for \"</td>\n",
       "      <td>0</td>\n",
       "    </tr>\n",
       "    <tr>\n",
       "      <th>27</th>\n",
       "      <td>1</td>\n",
       "      <td>\" i met that pussy on Ocean Dr . i gave that p...</td>\n",
       "      <td>0</td>\n",
       "    </tr>\n",
       "    <tr>\n",
       "      <th>28</th>\n",
       "      <td>1</td>\n",
       "      <td>\" i need a trippy bitch who fuck on Hennessy \"</td>\n",
       "      <td>0</td>\n",
       "    </tr>\n",
       "    <tr>\n",
       "      <th>29</th>\n",
       "      <td>1</td>\n",
       "      <td>\" i spend my money how i want bitch its my bus...</td>\n",
       "      <td>0</td>\n",
       "    </tr>\n",
       "    <tr>\n",
       "      <th>...</th>\n",
       "      <td>...</td>\n",
       "      <td>...</td>\n",
       "      <td>...</td>\n",
       "    </tr>\n",
       "    <tr>\n",
       "      <th>24753</th>\n",
       "      <td>1</td>\n",
       "      <td>you ain't gotta be a dyke to like hoes</td>\n",
       "      <td>0</td>\n",
       "    </tr>\n",
       "    <tr>\n",
       "      <th>24754</th>\n",
       "      <td>1</td>\n",
       "      <td>you are a hoe, hoe, &amp;amp; a hoe.</td>\n",
       "      <td>0</td>\n",
       "    </tr>\n",
       "    <tr>\n",
       "      <th>24755</th>\n",
       "      <td>1</td>\n",
       "      <td>you bitches love yall some corny nigga</td>\n",
       "      <td>0</td>\n",
       "    </tr>\n",
       "    <tr>\n",
       "      <th>24756</th>\n",
       "      <td>1</td>\n",
       "      <td>you can masturbate anytime bitch lol &amp;#8220;@g...</td>\n",
       "      <td>0</td>\n",
       "    </tr>\n",
       "    <tr>\n",
       "      <th>24757</th>\n",
       "      <td>1</td>\n",
       "      <td>you can never get a group of hoes together wit...</td>\n",
       "      <td>0</td>\n",
       "    </tr>\n",
       "    <tr>\n",
       "      <th>24758</th>\n",
       "      <td>1</td>\n",
       "      <td>you can tell when dick recently been in a puss...</td>\n",
       "      <td>0</td>\n",
       "    </tr>\n",
       "    <tr>\n",
       "      <th>24759</th>\n",
       "      <td>1</td>\n",
       "      <td>you can't cuff a hoe lmao</td>\n",
       "      <td>0</td>\n",
       "    </tr>\n",
       "    <tr>\n",
       "      <th>24760</th>\n",
       "      <td>1</td>\n",
       "      <td>you drove me redneck crazy</td>\n",
       "      <td>0</td>\n",
       "    </tr>\n",
       "    <tr>\n",
       "      <th>24761</th>\n",
       "      <td>1</td>\n",
       "      <td>you fake niggah lolol</td>\n",
       "      <td>0</td>\n",
       "    </tr>\n",
       "    <tr>\n",
       "      <th>24762</th>\n",
       "      <td>1</td>\n",
       "      <td>you got niggas, and i got bitches.</td>\n",
       "      <td>0</td>\n",
       "    </tr>\n",
       "    <tr>\n",
       "      <th>24763</th>\n",
       "      <td>1</td>\n",
       "      <td>you gotta be a new breed of retarded if you do...</td>\n",
       "      <td>0</td>\n",
       "    </tr>\n",
       "    <tr>\n",
       "      <th>24764</th>\n",
       "      <td>1</td>\n",
       "      <td>you gotta understand that these bitches are ch...</td>\n",
       "      <td>0</td>\n",
       "    </tr>\n",
       "    <tr>\n",
       "      <th>24765</th>\n",
       "      <td>1</td>\n",
       "      <td>you hoe spice</td>\n",
       "      <td>0</td>\n",
       "    </tr>\n",
       "    <tr>\n",
       "      <th>24766</th>\n",
       "      <td>1</td>\n",
       "      <td>you just want some attention hoe</td>\n",
       "      <td>0</td>\n",
       "    </tr>\n",
       "    <tr>\n",
       "      <th>24767</th>\n",
       "      <td>2</td>\n",
       "      <td>you know what they say, the early bird gets th...</td>\n",
       "      <td>1</td>\n",
       "    </tr>\n",
       "    <tr>\n",
       "      <th>24768</th>\n",
       "      <td>1</td>\n",
       "      <td>you know what your doing when you favorite a t...</td>\n",
       "      <td>0</td>\n",
       "    </tr>\n",
       "    <tr>\n",
       "      <th>24769</th>\n",
       "      <td>1</td>\n",
       "      <td>you lil dumb ass bitch, i ain't fuckin wit chu...</td>\n",
       "      <td>0</td>\n",
       "    </tr>\n",
       "    <tr>\n",
       "      <th>24770</th>\n",
       "      <td>1</td>\n",
       "      <td>you look like AC Green...bitch don't call here...</td>\n",
       "      <td>0</td>\n",
       "    </tr>\n",
       "    <tr>\n",
       "      <th>24771</th>\n",
       "      <td>1</td>\n",
       "      <td>you look like your 12 stop talking about fucki...</td>\n",
       "      <td>0</td>\n",
       "    </tr>\n",
       "    <tr>\n",
       "      <th>24772</th>\n",
       "      <td>1</td>\n",
       "      <td>you might as well gone pussy pop on a stage</td>\n",
       "      <td>0</td>\n",
       "    </tr>\n",
       "    <tr>\n",
       "      <th>24773</th>\n",
       "      <td>1</td>\n",
       "      <td>you niggers cheat on ya gf's? smh....</td>\n",
       "      <td>0</td>\n",
       "    </tr>\n",
       "    <tr>\n",
       "      <th>24774</th>\n",
       "      <td>1</td>\n",
       "      <td>you really care bout dis bitch. my dick all in...</td>\n",
       "      <td>0</td>\n",
       "    </tr>\n",
       "    <tr>\n",
       "      <th>24775</th>\n",
       "      <td>1</td>\n",
       "      <td>you worried bout other bitches, you need me for?</td>\n",
       "      <td>0</td>\n",
       "    </tr>\n",
       "    <tr>\n",
       "      <th>24776</th>\n",
       "      <td>0</td>\n",
       "      <td>you're all niggers</td>\n",
       "      <td>0</td>\n",
       "    </tr>\n",
       "    <tr>\n",
       "      <th>24777</th>\n",
       "      <td>0</td>\n",
       "      <td>you're such a retard i hope you get type 2 dia...</td>\n",
       "      <td>0</td>\n",
       "    </tr>\n",
       "    <tr>\n",
       "      <th>24778</th>\n",
       "      <td>1</td>\n",
       "      <td>you's a muthaf***in lie &amp;#8220;@LifeAsKing: @2...</td>\n",
       "      <td>0</td>\n",
       "    </tr>\n",
       "    <tr>\n",
       "      <th>24779</th>\n",
       "      <td>2</td>\n",
       "      <td>you've gone and broke the wrong heart baby, an...</td>\n",
       "      <td>1</td>\n",
       "    </tr>\n",
       "    <tr>\n",
       "      <th>24780</th>\n",
       "      <td>1</td>\n",
       "      <td>young buck wanna eat!!.. dat nigguh like I ain...</td>\n",
       "      <td>0</td>\n",
       "    </tr>\n",
       "    <tr>\n",
       "      <th>24781</th>\n",
       "      <td>1</td>\n",
       "      <td>youu got wild bitches tellin you lies</td>\n",
       "      <td>0</td>\n",
       "    </tr>\n",
       "    <tr>\n",
       "      <th>24782</th>\n",
       "      <td>2</td>\n",
       "      <td>~~Ruffled | Ntac Eileen Dahlia - Beautiful col...</td>\n",
       "      <td>1</td>\n",
       "    </tr>\n",
       "  </tbody>\n",
       "</table>\n",
       "<p>24783 rows × 3 columns</p>\n",
       "</div>"
      ],
      "text/plain": [
       "       class_second                                              tweet  \\\n",
       "0                 2  !!! RT @mayasolovely: As a woman you shouldn't...   \n",
       "1                 1  !!!!! RT @mleew17: boy dats cold...tyga dwn ba...   \n",
       "2                 1  !!!!!!! RT @UrKindOfBrand Dawg!!!! RT @80sbaby...   \n",
       "3                 1  !!!!!!!!! RT @C_G_Anderson: @viva_based she lo...   \n",
       "4                 1  !!!!!!!!!!!!! RT @ShenikaRoberts: The shit you...   \n",
       "5                 1  !!!!!!!!!!!!!!!!!!\"@T_Madison_x: The shit just...   \n",
       "6                 1  !!!!!!\"@__BrighterDays: I can not just sit up ...   \n",
       "7                 1  !!!!&#8220;@selfiequeenbri: cause I'm tired of...   \n",
       "8                 1  \" &amp; you might not get ya bitch back &amp; ...   \n",
       "9                 1  \" @rhythmixx_ :hobbies include: fighting Maria...   \n",
       "10                1  \" Keeks is a bitch she curves everyone \" lol I...   \n",
       "11                1                 \" Murda Gang bitch its Gang Land \"   \n",
       "12                1  \" So hoes that smoke are losers ? \" yea ... go...   \n",
       "13                1      \" bad bitches is the only thing that i like \"   \n",
       "14                1                            \" bitch get up off me \"   \n",
       "15                1                    \" bitch nigga miss me with it \"   \n",
       "16                1                             \" bitch plz whatever \"   \n",
       "17                1                          \" bitch who do you love \"   \n",
       "18                1                 \" bitches get cut off everyday B \"   \n",
       "19                1                 \" black bottle &amp; a bad bitch \"   \n",
       "20                1               \" broke bitch cant tell me nothing \"   \n",
       "21                1                    \" cancel that bitch like Nino \"   \n",
       "22                1            \" cant you see these hoes wont change \"   \n",
       "23                1  \" fuck no that bitch dont even suck dick \" &#1...   \n",
       "24                1  \" got ya bitch tip toeing on my hardwood floor...   \n",
       "25                1     \" her pussy lips like Heaven doors \" &#128524;   \n",
       "26                1                       \" hoe what its hitting for \"   \n",
       "27                1  \" i met that pussy on Ocean Dr . i gave that p...   \n",
       "28                1     \" i need a trippy bitch who fuck on Hennessy \"   \n",
       "29                1  \" i spend my money how i want bitch its my bus...   \n",
       "...             ...                                                ...   \n",
       "24753             1             you ain't gotta be a dyke to like hoes   \n",
       "24754             1                   you are a hoe, hoe, &amp; a hoe.   \n",
       "24755             1             you bitches love yall some corny nigga   \n",
       "24756             1  you can masturbate anytime bitch lol &#8220;@g...   \n",
       "24757             1  you can never get a group of hoes together wit...   \n",
       "24758             1  you can tell when dick recently been in a puss...   \n",
       "24759             1                          you can't cuff a hoe lmao   \n",
       "24760             1                         you drove me redneck crazy   \n",
       "24761             1                              you fake niggah lolol   \n",
       "24762             1                 you got niggas, and i got bitches.   \n",
       "24763             1  you gotta be a new breed of retarded if you do...   \n",
       "24764             1  you gotta understand that these bitches are ch...   \n",
       "24765             1                                      you hoe spice   \n",
       "24766             1                   you just want some attention hoe   \n",
       "24767             2  you know what they say, the early bird gets th...   \n",
       "24768             1  you know what your doing when you favorite a t...   \n",
       "24769             1  you lil dumb ass bitch, i ain't fuckin wit chu...   \n",
       "24770             1  you look like AC Green...bitch don't call here...   \n",
       "24771             1  you look like your 12 stop talking about fucki...   \n",
       "24772             1        you might as well gone pussy pop on a stage   \n",
       "24773             1              you niggers cheat on ya gf's? smh....   \n",
       "24774             1  you really care bout dis bitch. my dick all in...   \n",
       "24775             1   you worried bout other bitches, you need me for?   \n",
       "24776             0                                 you're all niggers   \n",
       "24777             0  you're such a retard i hope you get type 2 dia...   \n",
       "24778             1  you's a muthaf***in lie &#8220;@LifeAsKing: @2...   \n",
       "24779             2  you've gone and broke the wrong heart baby, an...   \n",
       "24780             1  young buck wanna eat!!.. dat nigguh like I ain...   \n",
       "24781             1              youu got wild bitches tellin you lies   \n",
       "24782             2  ~~Ruffled | Ntac Eileen Dahlia - Beautiful col...   \n",
       "\n",
       "       class_first  \n",
       "0                1  \n",
       "1                0  \n",
       "2                0  \n",
       "3                0  \n",
       "4                0  \n",
       "5                0  \n",
       "6                0  \n",
       "7                0  \n",
       "8                0  \n",
       "9                0  \n",
       "10               0  \n",
       "11               0  \n",
       "12               0  \n",
       "13               0  \n",
       "14               0  \n",
       "15               0  \n",
       "16               0  \n",
       "17               0  \n",
       "18               0  \n",
       "19               0  \n",
       "20               0  \n",
       "21               0  \n",
       "22               0  \n",
       "23               0  \n",
       "24               0  \n",
       "25               0  \n",
       "26               0  \n",
       "27               0  \n",
       "28               0  \n",
       "29               0  \n",
       "...            ...  \n",
       "24753            0  \n",
       "24754            0  \n",
       "24755            0  \n",
       "24756            0  \n",
       "24757            0  \n",
       "24758            0  \n",
       "24759            0  \n",
       "24760            0  \n",
       "24761            0  \n",
       "24762            0  \n",
       "24763            0  \n",
       "24764            0  \n",
       "24765            0  \n",
       "24766            0  \n",
       "24767            1  \n",
       "24768            0  \n",
       "24769            0  \n",
       "24770            0  \n",
       "24771            0  \n",
       "24772            0  \n",
       "24773            0  \n",
       "24774            0  \n",
       "24775            0  \n",
       "24776            0  \n",
       "24777            0  \n",
       "24778            0  \n",
       "24779            1  \n",
       "24780            0  \n",
       "24781            0  \n",
       "24782            1  \n",
       "\n",
       "[24783 rows x 3 columns]"
      ]
     },
     "execution_count": 40,
     "metadata": {},
     "output_type": "execute_result"
    }
   ],
   "source": [
    "data"
   ]
  },
  {
   "cell_type": "code",
   "execution_count": 41,
   "metadata": {
    "collapsed": true
   },
   "outputs": [],
   "source": [
    "save_pickle(data, 'cleaned_data.pkl')"
   ]
  },
  {
   "cell_type": "code",
   "execution_count": null,
   "metadata": {
    "collapsed": true
   },
   "outputs": [],
   "source": []
  }
 ],
 "metadata": {
  "kernelspec": {
   "display_name": "Python [conda root]",
   "language": "python",
   "name": "conda-root-py"
  },
  "language_info": {
   "codemirror_mode": {
    "name": "ipython",
    "version": 3
   },
   "file_extension": ".py",
   "mimetype": "text/x-python",
   "name": "python",
   "nbconvert_exporter": "python",
   "pygments_lexer": "ipython3",
   "version": "3.6.2"
  }
 },
 "nbformat": 4,
 "nbformat_minor": 2
}
