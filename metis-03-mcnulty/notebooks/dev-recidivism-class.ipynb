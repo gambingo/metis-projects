{
 "cells": [
  {
   "cell_type": "markdown",
   "metadata": {},
   "source": [
    "## Libraries"
   ]
  },
  {
   "cell_type": "code",
   "execution_count": 1,
   "metadata": {},
   "outputs": [],
   "source": [
    "import sys\n",
    "modules = '../python-scripts/'\n",
    "sys.path.append(modules)\n",
    "from mcnulty import *\n",
    "from recidivism import recidivism"
   ]
  },
  {
   "cell_type": "code",
   "execution_count": 2,
   "metadata": {},
   "outputs": [],
   "source": [
    "import matplotlib.pyplot as plt\n",
    "%matplotlib inline"
   ]
  },
  {
   "cell_type": "code",
   "execution_count": 3,
   "metadata": {},
   "outputs": [
    {
     "name": "stdout",
     "output_type": "stream",
     "text": [
      "Python Version:\n",
      " 3.6.3 |Anaconda custom (64-bit)| (default, Dec  5 2017, 17:30:25) \n",
      "[GCC 4.2.1 Compatible Clang 4.0.1 (tags/RELEASE_401/final)]\n"
     ]
    }
   ],
   "source": [
    "print('Python Version:\\n', sys.version)"
   ]
  },
  {
   "cell_type": "code",
   "execution_count": 4,
   "metadata": {},
   "outputs": [
    {
     "name": "stdout",
     "output_type": "stream",
     "text": [
      "Numpy Version:  1.13.3\n",
      "Pandas Version:  0.21.1\n",
      "Sklearn Version:  0.19.1\n"
     ]
    }
   ],
   "source": [
    "from sklearn import __version__ as sk_version\n",
    "print('Numpy Version: ', np.__version__)\n",
    "print('Pandas Version: ', pd.__version__)\n",
    "print('Sklearn Version: ', sk_version)"
   ]
  },
  {
   "cell_type": "markdown",
   "metadata": {},
   "source": [
    "## Access data from SQL"
   ]
  },
  {
   "cell_type": "code",
   "execution_count": 5,
   "metadata": {},
   "outputs": [],
   "source": [
    "features = ['offense_type',\n",
    "            'sex',\n",
    "            'age',\n",
    "            'time_employed',\n",
    "            'education',\n",
    "            'address_changes',\n",
    "            'drug_use',\n",
    "            'prior_felonies',\n",
    "            'jail_imposed',\n",
    "            'previously_on_probation',\n",
    "            'jurisdiction',\n",
    "            'drug_treatment',\n",
    "            'previous_felony_type']"
   ]
  },
  {
   "cell_type": "code",
   "execution_count": 6,
   "metadata": {
    "scrolled": false
   },
   "outputs": [],
   "source": [
    "x, y, race, ethnicity = pull_from_SQL(features, table_name='clean')"
   ]
  },
  {
   "cell_type": "code",
   "execution_count": 7,
   "metadata": {},
   "outputs": [
    {
     "data": {
      "text/html": [
       "<div>\n",
       "<style scoped>\n",
       "    .dataframe tbody tr th:only-of-type {\n",
       "        vertical-align: middle;\n",
       "    }\n",
       "\n",
       "    .dataframe tbody tr th {\n",
       "        vertical-align: top;\n",
       "    }\n",
       "\n",
       "    .dataframe thead th {\n",
       "        text-align: right;\n",
       "    }\n",
       "</style>\n",
       "<table border=\"1\" class=\"dataframe\">\n",
       "  <thead>\n",
       "    <tr style=\"text-align: right;\">\n",
       "      <th></th>\n",
       "      <th>offense_type</th>\n",
       "      <th>sex</th>\n",
       "      <th>age</th>\n",
       "      <th>time_employed</th>\n",
       "      <th>education</th>\n",
       "      <th>address_changes</th>\n",
       "      <th>drug_use</th>\n",
       "      <th>prior_felonies</th>\n",
       "      <th>jail_imposed</th>\n",
       "      <th>previously_on_probation</th>\n",
       "      <th>jurisdiction</th>\n",
       "      <th>drug_treatment</th>\n",
       "      <th>previous_felony_type</th>\n",
       "      <th>reoffend</th>\n",
       "      <th>race</th>\n",
       "    </tr>\n",
       "  </thead>\n",
       "  <tbody>\n",
       "    <tr>\n",
       "      <th>0</th>\n",
       "      <td>Miscellaneous</td>\n",
       "      <td>Male</td>\n",
       "      <td>first_quartile</td>\n",
       "      <td>40 to 60 percent</td>\n",
       "      <td>Some high school</td>\n",
       "      <td>None</td>\n",
       "      <td>Not ascertained</td>\n",
       "      <td>None</td>\n",
       "      <td>8.0</td>\n",
       "      <td>1.0</td>\n",
       "      <td>1.0</td>\n",
       "      <td>4.0</td>\n",
       "      <td>7.0</td>\n",
       "      <td>0.0</td>\n",
       "      <td>Black</td>\n",
       "    </tr>\n",
       "    <tr>\n",
       "      <th>1</th>\n",
       "      <td>Sex related offenses</td>\n",
       "      <td>Male</td>\n",
       "      <td>fourth_quartile</td>\n",
       "      <td>&gt;60 percent</td>\n",
       "      <td>High school (GED)</td>\n",
       "      <td>One</td>\n",
       "      <td>No drug abuse problem</td>\n",
       "      <td>None</td>\n",
       "      <td>8.0</td>\n",
       "      <td>2.0</td>\n",
       "      <td>1.0</td>\n",
       "      <td>8.0</td>\n",
       "      <td>98.0</td>\n",
       "      <td>0.0</td>\n",
       "      <td>Black</td>\n",
       "    </tr>\n",
       "    <tr>\n",
       "      <th>2</th>\n",
       "      <td>Sex related offenses</td>\n",
       "      <td>Unknown</td>\n",
       "      <td>fourth_quartile</td>\n",
       "      <td>&gt;60 percent</td>\n",
       "      <td>Some high school</td>\n",
       "      <td>None</td>\n",
       "      <td>No drug abuse problem</td>\n",
       "      <td>None</td>\n",
       "      <td>8.0</td>\n",
       "      <td>2.0</td>\n",
       "      <td>1.0</td>\n",
       "      <td>1.0</td>\n",
       "      <td>98.0</td>\n",
       "      <td>0.0</td>\n",
       "      <td>Black</td>\n",
       "    </tr>\n",
       "    <tr>\n",
       "      <th>3</th>\n",
       "      <td>Forcible Rape</td>\n",
       "      <td>Male</td>\n",
       "      <td>fourth_quartile</td>\n",
       "      <td>&lt;40 percent</td>\n",
       "      <td>Grade school</td>\n",
       "      <td>Two or more</td>\n",
       "      <td>No drug abuse problem</td>\n",
       "      <td>One</td>\n",
       "      <td>8.0</td>\n",
       "      <td>2.0</td>\n",
       "      <td>1.0</td>\n",
       "      <td>1.0</td>\n",
       "      <td>98.0</td>\n",
       "      <td>0.0</td>\n",
       "      <td>Black</td>\n",
       "    </tr>\n",
       "    <tr>\n",
       "      <th>4</th>\n",
       "      <td>Residential</td>\n",
       "      <td>Male</td>\n",
       "      <td>first_quartile</td>\n",
       "      <td>&lt;40 percent</td>\n",
       "      <td>Some high school</td>\n",
       "      <td>None</td>\n",
       "      <td>Not ascertained</td>\n",
       "      <td>One</td>\n",
       "      <td>8.0</td>\n",
       "      <td>2.0</td>\n",
       "      <td>1.0</td>\n",
       "      <td>8.0</td>\n",
       "      <td>98.0</td>\n",
       "      <td>1.0</td>\n",
       "      <td>Black</td>\n",
       "    </tr>\n",
       "  </tbody>\n",
       "</table>\n",
       "</div>"
      ],
      "text/plain": [
       "           offense_type      sex              age     time_employed  \\\n",
       "0         Miscellaneous     Male   first_quartile  40 to 60 percent   \n",
       "1  Sex related offenses     Male  fourth_quartile       >60 percent   \n",
       "2  Sex related offenses  Unknown  fourth_quartile       >60 percent   \n",
       "3         Forcible Rape     Male  fourth_quartile       <40 percent   \n",
       "4           Residential     Male   first_quartile       <40 percent   \n",
       "\n",
       "           education address_changes               drug_use prior_felonies  \\\n",
       "0   Some high school            None        Not ascertained           None   \n",
       "1  High school (GED)             One  No drug abuse problem           None   \n",
       "2   Some high school            None  No drug abuse problem           None   \n",
       "3       Grade school     Two or more  No drug abuse problem            One   \n",
       "4   Some high school            None        Not ascertained            One   \n",
       "\n",
       "  jail_imposed previously_on_probation jurisdiction drug_treatment  \\\n",
       "0          8.0                     1.0          1.0            4.0   \n",
       "1          8.0                     2.0          1.0            8.0   \n",
       "2          8.0                     2.0          1.0            1.0   \n",
       "3          8.0                     2.0          1.0            1.0   \n",
       "4          8.0                     2.0          1.0            8.0   \n",
       "\n",
       "  previous_felony_type  reoffend   race  \n",
       "0                  7.0       0.0  Black  \n",
       "1                 98.0       0.0  Black  \n",
       "2                 98.0       0.0  Black  \n",
       "3                 98.0       0.0  Black  \n",
       "4                 98.0       1.0  Black  "
      ]
     },
     "execution_count": 7,
     "metadata": {},
     "output_type": "execute_result"
    }
   ],
   "source": [
    "x.join(y).join(race).head()"
   ]
  },
  {
   "cell_type": "markdown",
   "metadata": {},
   "source": [
    "## Recidivism Model"
   ]
  },
  {
   "cell_type": "code",
   "execution_count": 8,
   "metadata": {},
   "outputs": [],
   "source": [
    "model = recidivism(algorithms=['Logistic Regression', 'Random Forest'])"
   ]
  },
  {
   "cell_type": "code",
   "execution_count": 9,
   "metadata": {
    "scrolled": false
   },
   "outputs": [
    {
     "name": "stdout",
     "output_type": "stream",
     "text": [
      "parameters\n",
      "grid\n",
      "grid fit\n",
      "coef_\n",
      "logistic_coef_\n",
      "recorded model\n"
     ]
    },
    {
     "name": "stderr",
     "output_type": "stream",
     "text": [
      "/Users/Joe/anaconda/lib/python3.6/site-packages/sklearn/ensemble/forest.py:305: UserWarning: Warm-start fitting without increasing n_estimators does not fit new trees.\n",
      "  warn(\"Warm-start fitting without increasing n_estimators does not \"\n"
     ]
    },
    {
     "name": "stdout",
     "output_type": "stream",
     "text": [
      "internal: model built\n"
     ]
    }
   ],
   "source": [
    "model.build_model(x, y, race, ethnicity)"
   ]
  },
  {
   "cell_type": "code",
   "execution_count": 10,
   "metadata": {},
   "outputs": [
    {
     "data": {
      "text/plain": [
       "[<matplotlib.lines.Line2D at 0x1a142fd048>]"
      ]
     },
     "execution_count": 10,
     "metadata": {},
     "output_type": "execute_result"
    },
    {
     "data": {
      "image/png": "[encoded data removed]",
      "text/plain": [
       "<matplotlib.figure.Figure at 0x1a13708588>"
      ]
     },
     "metadata": {},
     "output_type": "display_data"
    }
   ],
   "source": [
    "plt.plot(model.num_estimators, model.oob_scores)"
   ]
  },
  {
   "cell_type": "code",
   "execution_count": 11,
   "metadata": {},
   "outputs": [
    {
     "data": {
      "text/plain": [
       "[(172, 0.64931004743423892),\n",
       " (171, 0.64877102199223802),\n",
       " (174, 0.64866321690383788),\n",
       " (193, 0.64866321690383788),\n",
       " (194, 0.6484476067270375)]"
      ]
     },
     "execution_count": 11,
     "metadata": {},
     "output_type": "execute_result"
    }
   ],
   "source": [
    "forest_scores = zip(model.num_estimators, model.oob_scores)\n",
    "forest_scores = sorted(forest_scores, key=lambda x: x[1], reverse=True)\n",
    "forest_scores[0:5]"
   ]
  },
  {
   "cell_type": "code",
   "execution_count": 12,
   "metadata": {},
   "outputs": [
    {
     "data": {
      "text/plain": [
       "[('previous_felony_type_98.0', -0.30707741297403696),\n",
       " ('age_fourth_quartile', -0.23510773640271587),\n",
       " ('jurisdiction_4.0', -0.23283967877036618),\n",
       " ('education_Not ascertained', 0.22902057754890159),\n",
       " ('jurisdiction_12.0', -0.20976256497934989),\n",
       " ('age_third_quartile', -0.20177494730984893),\n",
       " ('drug_treatment_8.0', 0.18776921580647193),\n",
       " ('previous_felony_type_8.0', -0.17690702797870855),\n",
       " ('sex_Male', 0.15735363990965059),\n",
       " ('jurisdiction_7.0', -0.1544319897497583),\n",
       " ('jurisdiction_14.0', -0.15421294311480505),\n",
       " ('time_employed_>60 percent', -0.15338772073266663),\n",
       " ('age_second_quartile', -0.15153905925688305),\n",
       " ('prior_felonies_Two or more', 0.14203000263350002),\n",
       " ('jurisdiction_19.0', -0.13433112595766572),\n",
       " ('jurisdiction_18.0', -0.12324581077471693),\n",
       " ('offense_type_Rape (undifferentiated)', -0.12067687588292303),\n",
       " ('education_Some high school', 0.12021822214981105),\n",
       " ('prior_felonies_Not ascertained', 0.10954407112415161),\n",
       " ('jurisdiction_17.0', -0.10878816501889084)]"
      ]
     },
     "execution_count": 12,
     "metadata": {},
     "output_type": "execute_result"
    }
   ],
   "source": [
    "model.logistic_coef_[0:20]"
   ]
  },
  {
   "cell_type": "code",
   "execution_count": 13,
   "metadata": {},
   "outputs": [
    {
     "data": {
      "text/plain": [
       "['White', 'Black', 'Unknown', 'Asian', 'American Indian', 'Other']"
      ]
     },
     "execution_count": 13,
     "metadata": {},
     "output_type": "execute_result"
    }
   ],
   "source": [
    "model.unique_races"
   ]
  },
  {
   "cell_type": "code",
   "execution_count": 14,
   "metadata": {
    "scrolled": false
   },
   "outputs": [
    {
     "name": "stdout",
     "output_type": "stream",
     "text": [
      "\n",
      "Logistic Regression\n",
      "Accuracy:  0.660200452635\n",
      "Precision:  0.624203821656\n",
      "\n",
      "Random Forest\n",
      "Accuracy:  0.651147752991\n",
      "Precision:  0.612903225806\n"
     ]
    },
    {
     "data": {
      "text/plain": [
       "['665', '659', '420', '1349', '61.3', '23.7', '49.8', '65.1']"
      ]
     },
     "execution_count": 14,
     "metadata": {},
     "output_type": "execute_result"
    }
   ],
   "source": [
    "model.score_model()"
   ]
  },
  {
   "cell_type": "code",
   "execution_count": 15,
   "metadata": {},
   "outputs": [
    {
     "data": {
      "text/plain": [
       "['210', '214', '119', '297', '63.8', '28.6', '50.5', '60.4']"
      ]
     },
     "execution_count": 15,
     "metadata": {},
     "output_type": "execute_result"
    }
   ],
   "source": [
    "model.score_model('Black')"
   ]
  },
  {
   "cell_type": "code",
   "execution_count": 16,
   "metadata": {},
   "outputs": [
    {
     "data": {
      "text/plain": [
       "['114', '202', '118', '551', '49.1', '17.6', '63.9', '67.5']"
      ]
     },
     "execution_count": 16,
     "metadata": {},
     "output_type": "execute_result"
    }
   ],
   "source": [
    "model.score_model('White')"
   ]
  },
  {
   "cell_type": "code",
   "execution_count": 17,
   "metadata": {},
   "outputs": [
    {
     "data": {
      "text/plain": [
       "['551', '457', '302', '798', '64.6', '27.5', '45.3', '64.0']"
      ]
     },
     "execution_count": 17,
     "metadata": {},
     "output_type": "execute_result"
    }
   ],
   "source": [
    "model.score_model('Non-White')"
   ]
  },
  {
   "cell_type": "code",
   "execution_count": null,
   "metadata": {},
   "outputs": [],
   "source": []
  }
 ],
 "metadata": {
  "anaconda-cloud": {},
  "kernelspec": {
   "display_name": "Python [conda root]",
   "language": "python",
   "name": "conda-root-py"
  },
  "language_info": {
   "codemirror_mode": {
    "name": "ipython",
    "version": 3
   },
   "file_extension": ".py",
   "mimetype": "text/x-python",
   "name": "python",
   "nbconvert_exporter": "python",
   "pygments_lexer": "ipython3",
   "version": "3.6.3"
  }
 },
 "nbformat": 4,
 "nbformat_minor": 2
}
