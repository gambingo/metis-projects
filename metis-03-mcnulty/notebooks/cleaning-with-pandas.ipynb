{
 "cells": [
  {
   "cell_type": "markdown",
   "metadata": {},
   "source": [
    "### Libraries"
   ]
  },
  {
   "cell_type": "code",
   "execution_count": 1,
   "metadata": {
    "collapsed": true
   },
   "outputs": [],
   "source": [
    "import sys\n",
    "modules = '../python-scripts/'\n",
    "sys.path.append(modules)"
   ]
  },
  {
   "cell_type": "code",
   "execution_count": 2,
   "metadata": {
    "collapsed": true
   },
   "outputs": [],
   "source": [
    "from mcnulty import *"
   ]
  },
  {
   "cell_type": "code",
   "execution_count": 3,
   "metadata": {
    "collapsed": true
   },
   "outputs": [],
   "source": [
    "%matplotlib inline"
   ]
  },
  {
   "cell_type": "markdown",
   "metadata": {},
   "source": [
    "## Cleaning\n",
    "In this notebook, I load in the entire raw dataset from PSQL, clean, then upload the entire cleaned dataset at once. This process was done somewhat manually, but it was worth the time to inspect each feature."
   ]
  },
  {
   "cell_type": "code",
   "execution_count": 4,
   "metadata": {
    "collapsed": true
   },
   "outputs": [],
   "source": [
    "cleaned_columns = {}"
   ]
  },
  {
   "cell_type": "code",
   "execution_count": 5,
   "metadata": {
    "collapsed": true
   },
   "outputs": [],
   "source": [
    "def clean_with_dict(vN, new_name, col_dict, sql_type='TEXT'):\n",
    "    \"\"\"Used on categorical data\"\"\"\n",
    "    df[new_name] = df[vN].apply(lambda x: col_dict[x])\n",
    "    cleaned_columns[new_name] = sql_type"
   ]
  },
  {
   "cell_type": "code",
   "execution_count": 6,
   "metadata": {
    "collapsed": true
   },
   "outputs": [],
   "source": [
    "def rename_column(vN, new_name, sql_type='TEXT', unknown = False):\n",
    "    \"\"\"Used on continuous data\"\"\"\n",
    "    df[new_name] = df[vN]\n",
    "    cleaned_columns[new_name] = sql_type\n",
    "    \n",
    "    if unknown:\n",
    "        df[new_name] = df[new_name].apply(lambda x: np.nan if x==unknown else x)"
   ]
  },
  {
   "cell_type": "code",
   "execution_count": 7,
   "metadata": {
    "collapsed": true
   },
   "outputs": [],
   "source": [
    "def split_into_quartiles(col):\n",
    "    \"\"\"Used on continuous data\"\"\"\n",
    "    one = df[col].quantile(0.25)\n",
    "    two = df[col].quantile(0.5)\n",
    "    three = df[col].quantile(0.75)\n",
    "\n",
    "    def apply_function(x):\n",
    "        if x <= one:\n",
    "            return 'first_quartile'\n",
    "        elif x > one and x <= two:\n",
    "            return 'second_quartile'\n",
    "        elif x > two and x <= three:\n",
    "            return 'third_quartile'\n",
    "        else:\n",
    "            return 'fourth_quartile'\n",
    "        \n",
    "    df[col] = df[col].apply(apply_function)"
   ]
  },
  {
   "cell_type": "code",
   "execution_count": 8,
   "metadata": {
    "collapsed": true
   },
   "outputs": [],
   "source": [
    "def continuous_data(vN, new_name, unknown=False):\n",
    "    rename_column(vN, new_name, unknown=unknown)\n",
    "    split_into_quartiles(new_name)"
   ]
  },
  {
   "cell_type": "markdown",
   "metadata": {},
   "source": [
    "#### Raw Data"
   ]
  },
  {
   "cell_type": "code",
   "execution_count": 9,
   "metadata": {
    "collapsed": true
   },
   "outputs": [],
   "source": [
    "df = load_table('raw')"
   ]
  },
  {
   "cell_type": "code",
   "execution_count": 10,
   "metadata": {},
   "outputs": [
    {
     "data": {
      "text/html": [
       "<div>\n",
       "<style>\n",
       "    .dataframe thead tr:only-child th {\n",
       "        text-align: right;\n",
       "    }\n",
       "\n",
       "    .dataframe thead th {\n",
       "        text-align: left;\n",
       "    }\n",
       "\n",
       "    .dataframe tbody tr th {\n",
       "        vertical-align: top;\n",
       "    }\n",
       "</style>\n",
       "<table border=\"1\" class=\"dataframe\">\n",
       "  <thead>\n",
       "    <tr style=\"text-align: right;\">\n",
       "      <th></th>\n",
       "      <th>v1</th>\n",
       "      <th>v2</th>\n",
       "      <th>v3</th>\n",
       "      <th>v4</th>\n",
       "      <th>v5</th>\n",
       "      <th>v6</th>\n",
       "      <th>v7</th>\n",
       "      <th>v8</th>\n",
       "      <th>v9</th>\n",
       "      <th>v10</th>\n",
       "      <th>...</th>\n",
       "      <th>v140</th>\n",
       "      <th>v141</th>\n",
       "      <th>v142</th>\n",
       "      <th>v143</th>\n",
       "      <th>v144</th>\n",
       "      <th>v145</th>\n",
       "      <th>v146</th>\n",
       "      <th>v147</th>\n",
       "      <th>v148</th>\n",
       "      <th>v149</th>\n",
       "    </tr>\n",
       "  </thead>\n",
       "  <tbody>\n",
       "    <tr>\n",
       "      <th>0</th>\n",
       "      <td>9574.0</td>\n",
       "      <td>2.0</td>\n",
       "      <td>1.0</td>\n",
       "      <td>1.0</td>\n",
       "      <td>2.0</td>\n",
       "      <td>4.0</td>\n",
       "      <td>1.0</td>\n",
       "      <td>800.0</td>\n",
       "      <td>1.0</td>\n",
       "      <td>2.0</td>\n",
       "      <td>...</td>\n",
       "      <td>7.0</td>\n",
       "      <td>98.0</td>\n",
       "      <td>99.0</td>\n",
       "      <td>99.0</td>\n",
       "      <td>99.0</td>\n",
       "      <td>99.0</td>\n",
       "      <td>99.0</td>\n",
       "      <td>99.0</td>\n",
       "      <td>11.0</td>\n",
       "      <td>98.0</td>\n",
       "    </tr>\n",
       "    <tr>\n",
       "      <th>1</th>\n",
       "      <td>9574.0</td>\n",
       "      <td>2.0</td>\n",
       "      <td>1.0</td>\n",
       "      <td>2.0</td>\n",
       "      <td>3.0</td>\n",
       "      <td>4.0</td>\n",
       "      <td>1.0</td>\n",
       "      <td>810.0</td>\n",
       "      <td>1.0</td>\n",
       "      <td>1.0</td>\n",
       "      <td>...</td>\n",
       "      <td>98.0</td>\n",
       "      <td>98.0</td>\n",
       "      <td>99.0</td>\n",
       "      <td>99.0</td>\n",
       "      <td>99.0</td>\n",
       "      <td>99.0</td>\n",
       "      <td>99.0</td>\n",
       "      <td>99.0</td>\n",
       "      <td>11.0</td>\n",
       "      <td>98.0</td>\n",
       "    </tr>\n",
       "    <tr>\n",
       "      <th>2</th>\n",
       "      <td>9574.0</td>\n",
       "      <td>2.0</td>\n",
       "      <td>1.0</td>\n",
       "      <td>3.0</td>\n",
       "      <td>4.0</td>\n",
       "      <td>4.0</td>\n",
       "      <td>1.0</td>\n",
       "      <td>810.0</td>\n",
       "      <td>8.0</td>\n",
       "      <td>1.0</td>\n",
       "      <td>...</td>\n",
       "      <td>98.0</td>\n",
       "      <td>98.0</td>\n",
       "      <td>99.0</td>\n",
       "      <td>99.0</td>\n",
       "      <td>99.0</td>\n",
       "      <td>99.0</td>\n",
       "      <td>99.0</td>\n",
       "      <td>99.0</td>\n",
       "      <td>11.0</td>\n",
       "      <td>98.0</td>\n",
       "    </tr>\n",
       "    <tr>\n",
       "      <th>3</th>\n",
       "      <td>9574.0</td>\n",
       "      <td>2.0</td>\n",
       "      <td>1.0</td>\n",
       "      <td>4.0</td>\n",
       "      <td>5.0</td>\n",
       "      <td>4.0</td>\n",
       "      <td>1.0</td>\n",
       "      <td>210.0</td>\n",
       "      <td>1.0</td>\n",
       "      <td>3.0</td>\n",
       "      <td>...</td>\n",
       "      <td>98.0</td>\n",
       "      <td>98.0</td>\n",
       "      <td>99.0</td>\n",
       "      <td>99.0</td>\n",
       "      <td>99.0</td>\n",
       "      <td>99.0</td>\n",
       "      <td>99.0</td>\n",
       "      <td>99.0</td>\n",
       "      <td>2.0</td>\n",
       "      <td>98.0</td>\n",
       "    </tr>\n",
       "    <tr>\n",
       "      <th>4</th>\n",
       "      <td>9574.0</td>\n",
       "      <td>2.0</td>\n",
       "      <td>1.0</td>\n",
       "      <td>5.0</td>\n",
       "      <td>7.0</td>\n",
       "      <td>4.0</td>\n",
       "      <td>1.0</td>\n",
       "      <td>510.0</td>\n",
       "      <td>1.0</td>\n",
       "      <td>3.0</td>\n",
       "      <td>...</td>\n",
       "      <td>98.0</td>\n",
       "      <td>98.0</td>\n",
       "      <td>6.0</td>\n",
       "      <td>98.0</td>\n",
       "      <td>98.0</td>\n",
       "      <td>6.0</td>\n",
       "      <td>98.0</td>\n",
       "      <td>98.0</td>\n",
       "      <td>5.0</td>\n",
       "      <td>6.0</td>\n",
       "    </tr>\n",
       "  </tbody>\n",
       "</table>\n",
       "<p>5 rows × 149 columns</p>\n",
       "</div>"
      ],
      "text/plain": [
       "       v1   v2   v3   v4   v5   v6   v7     v8   v9  v10  ...   v140  v141  \\\n",
       "0  9574.0  2.0  1.0  1.0  2.0  4.0  1.0  800.0  1.0  2.0  ...    7.0  98.0   \n",
       "1  9574.0  2.0  1.0  2.0  3.0  4.0  1.0  810.0  1.0  1.0  ...   98.0  98.0   \n",
       "2  9574.0  2.0  1.0  3.0  4.0  4.0  1.0  810.0  8.0  1.0  ...   98.0  98.0   \n",
       "3  9574.0  2.0  1.0  4.0  5.0  4.0  1.0  210.0  1.0  3.0  ...   98.0  98.0   \n",
       "4  9574.0  2.0  1.0  5.0  7.0  4.0  1.0  510.0  1.0  3.0  ...   98.0  98.0   \n",
       "\n",
       "   v142  v143  v144  v145  v146  v147  v148  v149  \n",
       "0  99.0  99.0  99.0  99.0  99.0  99.0  11.0  98.0  \n",
       "1  99.0  99.0  99.0  99.0  99.0  99.0  11.0  98.0  \n",
       "2  99.0  99.0  99.0  99.0  99.0  99.0  11.0  98.0  \n",
       "3  99.0  99.0  99.0  99.0  99.0  99.0   2.0  98.0  \n",
       "4   6.0  98.0  98.0   6.0  98.0  98.0   5.0   6.0  \n",
       "\n",
       "[5 rows x 149 columns]"
      ]
     },
     "execution_count": 10,
     "metadata": {},
     "output_type": "execute_result"
    }
   ],
   "source": [
    "df.head()"
   ]
  },
  {
   "cell_type": "markdown",
   "metadata": {},
   "source": [
    "Column v4 is a unique identifier for this table. But with the index in pandas, this is unnecessay."
   ]
  },
  {
   "cell_type": "markdown",
   "metadata": {},
   "source": [
    "### Targets"
   ]
  },
  {
   "cell_type": "markdown",
   "metadata": {},
   "source": [
    "#### No. of felonies while on probation\n",
    "Fix this. Felony=98 must be turned to nan"
   ]
  },
  {
   "cell_type": "code",
   "execution_count": 11,
   "metadata": {},
   "outputs": [
    {
     "data": {
      "text/plain": [
       "0.0     7075\n",
       "1.0     2210\n",
       "98.0    1428\n",
       "2.0      896\n",
       "3.0      374\n",
       "4.0      189\n",
       "5.0      100\n",
       "6.0       43\n",
       "7.0       31\n",
       "8.0       18\n",
       "9.0        2\n",
       "10.0       2\n",
       "12.0       1\n",
       "Name: v116, dtype: int64"
      ]
     },
     "execution_count": 11,
     "metadata": {},
     "output_type": "execute_result"
    }
   ],
   "source": [
    "df['v116'].value_counts()"
   ]
  },
  {
   "cell_type": "code",
   "execution_count": 12,
   "metadata": {
    "collapsed": true
   },
   "outputs": [],
   "source": [
    "df['reoffend'] = df['v116'].apply(lambda x: 1 if x>0 else 0)\n",
    "df.rename(columns={'v116': 'felony_count'}, inplace=True)"
   ]
  },
  {
   "cell_type": "code",
   "execution_count": 13,
   "metadata": {
    "collapsed": true
   },
   "outputs": [],
   "source": [
    "# The order here becomes important when uploading the cleaned data to sql.\n",
    "cleaned_columns['felony_count'] = 'DOUBLE PRECISION'\n",
    "cleaned_columns['reoffend'] = 'DOUBLE PRECISION'"
   ]
  },
  {
   "cell_type": "markdown",
   "metadata": {},
   "source": [
    "### Race & Ethnicity"
   ]
  },
  {
   "cell_type": "code",
   "execution_count": 14,
   "metadata": {},
   "outputs": [],
   "source": [
    "clean_with_dict('v113', 'race', race_dict)\n",
    "clean_with_dict('v114', 'ethnicity', ethnicity_dict)"
   ]
  },
  {
   "cell_type": "markdown",
   "metadata": {},
   "source": [
    "### Features\n",
    "#### Case Weight\n",
    "Many features are a listed as a multiple of the case weight. For example, under the Age column, age is not listed. Instead, age times case weight is listed."
   ]
  },
  {
   "cell_type": "code",
   "execution_count": 15,
   "metadata": {
    "collapsed": true
   },
   "outputs": [],
   "source": [
    "rename_column('v61', 'case_weight', sql_type = 'DOUBLE PRECISION')"
   ]
  },
  {
   "cell_type": "markdown",
   "metadata": {},
   "source": [
    "#### Number of Convictions"
   ]
  },
  {
   "cell_type": "code",
   "execution_count": 16,
   "metadata": {
    "collapsed": true
   },
   "outputs": [],
   "source": [
    "continuous_data('v7', 'convictions', unknown = 98)"
   ]
  },
  {
   "cell_type": "markdown",
   "metadata": {},
   "source": [
    "#### Three Digit Offense Code"
   ]
  },
  {
   "cell_type": "code",
   "execution_count": 17,
   "metadata": {
    "collapsed": true
   },
   "outputs": [],
   "source": [
    "clean_with_dict('v8', 'offense_type', offense_dict)"
   ]
  },
  {
   "cell_type": "markdown",
   "metadata": {},
   "source": [
    "#### Sex"
   ]
  },
  {
   "cell_type": "code",
   "execution_count": 18,
   "metadata": {
    "collapsed": true
   },
   "outputs": [],
   "source": [
    "clean_with_dict('v9', 'sex', sex_dict)"
   ]
  },
  {
   "cell_type": "markdown",
   "metadata": {},
   "source": [
    "#### Age\n",
    "Age is one of the columns that is scaled by the case weight. Very important do un-scale each feature like this."
   ]
  },
  {
   "cell_type": "code",
   "execution_count": 19,
   "metadata": {
    "collapsed": true
   },
   "outputs": [],
   "source": [
    "#rename_column('v99', 'age', 'DOUBLE PRECISION', unknown = 9998)\n",
    "df['v99'] = df['v99']/df['case_weight']"
   ]
  },
  {
   "cell_type": "code",
   "execution_count": 20,
   "metadata": {},
   "outputs": [
    {
     "data": {
      "image/png": "[encoded data removed]",
      "text/plain": [
       "<matplotlib.figure.Figure at 0x112f31cf8>"
      ]
     },
     "metadata": {},
     "output_type": "display_data"
    }
   ],
   "source": [
    "df['v99'].hist();"
   ]
  },
  {
   "cell_type": "code",
   "execution_count": 21,
   "metadata": {},
   "outputs": [
    {
     "data": {
      "image/png": "[encoded data removed]",
      "text/plain": [
       "<matplotlib.figure.Figure at 0x11206ff60>"
      ]
     },
     "metadata": {},
     "output_type": "display_data"
    }
   ],
   "source": [
    "df.loc[df['v99'] <= 18]['v99'].hist();"
   ]
  },
  {
   "cell_type": "code",
   "execution_count": 22,
   "metadata": {},
   "outputs": [
    {
     "data": {
      "text/html": [
       "<div>\n",
       "<style>\n",
       "    .dataframe thead tr:only-child th {\n",
       "        text-align: right;\n",
       "    }\n",
       "\n",
       "    .dataframe thead th {\n",
       "        text-align: left;\n",
       "    }\n",
       "\n",
       "    .dataframe tbody tr th {\n",
       "        vertical-align: top;\n",
       "    }\n",
       "</style>\n",
       "<table border=\"1\" class=\"dataframe\">\n",
       "  <thead>\n",
       "    <tr style=\"text-align: right;\">\n",
       "      <th></th>\n",
       "      <th>v1</th>\n",
       "      <th>v2</th>\n",
       "      <th>v3</th>\n",
       "      <th>v4</th>\n",
       "      <th>v5</th>\n",
       "      <th>v6</th>\n",
       "      <th>v7</th>\n",
       "      <th>v8</th>\n",
       "      <th>v9</th>\n",
       "      <th>v10</th>\n",
       "      <th>...</th>\n",
       "      <th>v147</th>\n",
       "      <th>v148</th>\n",
       "      <th>v149</th>\n",
       "      <th>reoffend</th>\n",
       "      <th>race</th>\n",
       "      <th>ethnicity</th>\n",
       "      <th>case_weight</th>\n",
       "      <th>convictions</th>\n",
       "      <th>offense_type</th>\n",
       "      <th>sex</th>\n",
       "    </tr>\n",
       "  </thead>\n",
       "  <tbody>\n",
       "    <tr>\n",
       "      <th>6781</th>\n",
       "      <td>9574.0</td>\n",
       "      <td>2.0</td>\n",
       "      <td>1.0</td>\n",
       "      <td>6782.0</td>\n",
       "      <td>1052.0</td>\n",
       "      <td>4.0</td>\n",
       "      <td>1.0</td>\n",
       "      <td>830.0</td>\n",
       "      <td>1.0</td>\n",
       "      <td>2.0</td>\n",
       "      <td>...</td>\n",
       "      <td>98.0</td>\n",
       "      <td>9.0</td>\n",
       "      <td>8.0</td>\n",
       "      <td>1</td>\n",
       "      <td>White</td>\n",
       "      <td>Hispanic</td>\n",
       "      <td>20.0</td>\n",
       "      <td>first_quartile</td>\n",
       "      <td>Drug possession</td>\n",
       "      <td>Male</td>\n",
       "    </tr>\n",
       "  </tbody>\n",
       "</table>\n",
       "<p>1 rows × 156 columns</p>\n",
       "</div>"
      ],
      "text/plain": [
       "          v1   v2   v3      v4      v5   v6   v7     v8   v9  v10  ...   v147  \\\n",
       "6781  9574.0  2.0  1.0  6782.0  1052.0  4.0  1.0  830.0  1.0  2.0  ...   98.0   \n",
       "\n",
       "      v148  v149  reoffend   race  ethnicity  case_weight     convictions  \\\n",
       "6781   9.0   8.0         1  White   Hispanic         20.0  first_quartile   \n",
       "\n",
       "         offense_type   sex  \n",
       "6781  Drug possession  Male  \n",
       "\n",
       "[1 rows x 156 columns]"
      ]
     },
     "execution_count": 22,
     "metadata": {},
     "output_type": "execute_result"
    }
   ],
   "source": [
    "df.loc[df['v99'] < 10]"
   ]
  },
  {
   "cell_type": "code",
   "execution_count": 23,
   "metadata": {
    "collapsed": true
   },
   "outputs": [],
   "source": [
    "continuous_data('v99', 'age', unknown=9998)"
   ]
  },
  {
   "cell_type": "markdown",
   "metadata": {},
   "source": [
    "Later, filter out the two-year-old felon."
   ]
  },
  {
   "cell_type": "markdown",
   "metadata": {},
   "source": [
    "#### Various Probationer Characteristics"
   ]
  },
  {
   "cell_type": "code",
   "execution_count": 24,
   "metadata": {
    "collapsed": true
   },
   "outputs": [],
   "source": [
    "clean_with_dict('v10', 'time_employed', employed_dict)\n",
    "clean_with_dict('v13', 'education', edu_dict)\n",
    "clean_with_dict('v14', 'address_changes', address_dict)\n",
    "clean_with_dict('v15', 'drug_use', drug_dict)\n",
    "clean_with_dict('v16', 'prior_felonies', prior_dict)"
   ]
  },
  {
   "cell_type": "markdown",
   "metadata": {},
   "source": [
    "#### Converting several columns straight from float data to text data\n",
    "The model will treat is all as categorical anyway."
   ]
  },
  {
   "cell_type": "code",
   "execution_count": 25,
   "metadata": {
    "collapsed": true
   },
   "outputs": [],
   "source": [
    "rename_column('v20', 'jail_imposed')\n",
    "rename_column('v63', 'previously_on_probation')\n",
    "rename_column('v130', 'jurisdiction')\n",
    "rename_column('v136', 'drug_treatment')\n",
    "rename_column('v140', 'previous_felony_type')"
   ]
  },
  {
   "cell_type": "markdown",
   "metadata": {},
   "source": [
    "### Write dataframe to CSV"
   ]
  },
  {
   "cell_type": "markdown",
   "metadata": {},
   "source": [
    "#### Drop invalid entries\n",
    "For this project, we are not imputing unknown values. In future models, we should explore if that improves."
   ]
  },
  {
   "cell_type": "code",
   "execution_count": 26,
   "metadata": {
    "collapsed": true
   },
   "outputs": [],
   "source": [
    "for column in df.columns:\n",
    "    if column not in cleaned_columns.keys():\n",
    "        df.drop(column, axis=1, inplace=True)"
   ]
  },
  {
   "cell_type": "code",
   "execution_count": 27,
   "metadata": {},
   "outputs": [
    {
     "data": {
      "text/plain": [
       "(12369, 19)"
      ]
     },
     "execution_count": 27,
     "metadata": {},
     "output_type": "execute_result"
    }
   ],
   "source": [
    "df.shape"
   ]
  },
  {
   "cell_type": "code",
   "execution_count": 28,
   "metadata": {
    "collapsed": true
   },
   "outputs": [],
   "source": [
    "df = df.dropna()\n",
    "df['index'] = df.index"
   ]
  },
  {
   "cell_type": "code",
   "execution_count": 29,
   "metadata": {
    "collapsed": true
   },
   "outputs": [],
   "source": [
    "df = df.loc[df['age'] != 2]"
   ]
  },
  {
   "cell_type": "code",
   "execution_count": 30,
   "metadata": {},
   "outputs": [
    {
     "data": {
      "text/plain": [
       "(12369, 20)"
      ]
     },
     "execution_count": 30,
     "metadata": {},
     "output_type": "execute_result"
    }
   ],
   "source": [
    "df.shape"
   ]
  },
  {
   "cell_type": "code",
   "execution_count": 31,
   "metadata": {
    "collapsed": true
   },
   "outputs": [],
   "source": [
    "filepath = '../data/cleaned_data.csv'\n",
    "df.to_csv(filepath, index=False)"
   ]
  },
  {
   "cell_type": "markdown",
   "metadata": {},
   "source": [
    "### Load into PSQL"
   ]
  },
  {
   "cell_type": "code",
   "execution_count": 32,
   "metadata": {},
   "outputs": [
    {
     "data": {
      "text/plain": [
       "{'address_changes': 'TEXT',\n",
       " 'age': 'TEXT',\n",
       " 'case_weight': 'DOUBLE PRECISION',\n",
       " 'convictions': 'TEXT',\n",
       " 'drug_treatment': 'TEXT',\n",
       " 'drug_use': 'TEXT',\n",
       " 'education': 'TEXT',\n",
       " 'ethnicity': 'TEXT',\n",
       " 'felony_count': 'DOUBLE PRECISION',\n",
       " 'jail_imposed': 'TEXT',\n",
       " 'jurisdiction': 'TEXT',\n",
       " 'offense_type': 'TEXT',\n",
       " 'previous_felony_type': 'TEXT',\n",
       " 'previously_on_probation': 'TEXT',\n",
       " 'prior_felonies': 'TEXT',\n",
       " 'race': 'TEXT',\n",
       " 'reoffend': 'DOUBLE PRECISION',\n",
       " 'sex': 'TEXT',\n",
       " 'time_employed': 'TEXT'}"
      ]
     },
     "execution_count": 32,
     "metadata": {},
     "output_type": "execute_result"
    }
   ],
   "source": [
    "cleaned_columns"
   ]
  },
  {
   "cell_type": "code",
   "execution_count": 33,
   "metadata": {
    "collapsed": true
   },
   "outputs": [],
   "source": [
    "columns_to_add = [name + ' ' + dtype + ', ' for name, dtype in cleaned_columns.items()]"
   ]
  },
  {
   "cell_type": "code",
   "execution_count": 34,
   "metadata": {},
   "outputs": [
    {
     "data": {
      "text/plain": [
       "'CREATE TABLE clean (felony_count DOUBLE PRECISION, reoffend DOUBLE PRECISION, race TEXT, ethnicity TEXT, case_weight DOUBLE PRECISION, convictions TEXT, offense_type TEXT, sex TEXT, age TEXT, time_employed TEXT, education TEXT, address_changes TEXT, drug_use TEXT, prior_felonies TEXT, jail_imposed TEXT, previously_on_probation TEXT, jurisdiction TEXT, drug_treatment TEXT, previous_felony_type TEXT, index DOUBLE PRECISION, PRIMARY KEY (index));'"
      ]
     },
     "execution_count": 34,
     "metadata": {},
     "output_type": "execute_result"
    }
   ],
   "source": [
    "sql_command = 'CREATE TABLE clean ('\n",
    "for column in columns_to_add:\n",
    "    sql_command += column\n",
    "    \n",
    "sql_command = sql_command[:-2] + ', index DOUBLE PRECISION, PRIMARY KEY (index));'\n",
    "sql_command"
   ]
  },
  {
   "cell_type": "code",
   "execution_count": 35,
   "metadata": {},
   "outputs": [
    {
     "data": {
      "text/html": [
       "<div>\n",
       "<style>\n",
       "    .dataframe thead tr:only-child th {\n",
       "        text-align: right;\n",
       "    }\n",
       "\n",
       "    .dataframe thead th {\n",
       "        text-align: left;\n",
       "    }\n",
       "\n",
       "    .dataframe tbody tr th {\n",
       "        vertical-align: top;\n",
       "    }\n",
       "</style>\n",
       "<table border=\"1\" class=\"dataframe\">\n",
       "  <thead>\n",
       "    <tr style=\"text-align: right;\">\n",
       "      <th></th>\n",
       "      <th>felony_count</th>\n",
       "      <th>reoffend</th>\n",
       "      <th>race</th>\n",
       "      <th>ethnicity</th>\n",
       "      <th>case_weight</th>\n",
       "      <th>convictions</th>\n",
       "      <th>offense_type</th>\n",
       "      <th>sex</th>\n",
       "      <th>age</th>\n",
       "      <th>time_employed</th>\n",
       "      <th>education</th>\n",
       "      <th>address_changes</th>\n",
       "      <th>drug_use</th>\n",
       "      <th>prior_felonies</th>\n",
       "      <th>jail_imposed</th>\n",
       "      <th>previously_on_probation</th>\n",
       "      <th>jurisdiction</th>\n",
       "      <th>drug_treatment</th>\n",
       "      <th>previous_felony_type</th>\n",
       "      <th>index</th>\n",
       "    </tr>\n",
       "  </thead>\n",
       "  <tbody>\n",
       "    <tr>\n",
       "      <th>0</th>\n",
       "      <td>0.0</td>\n",
       "      <td>0</td>\n",
       "      <td>Black</td>\n",
       "      <td>Non-Hispanic</td>\n",
       "      <td>3.0</td>\n",
       "      <td>first_quartile</td>\n",
       "      <td>Miscellaneous</td>\n",
       "      <td>Male</td>\n",
       "      <td>first_quartile</td>\n",
       "      <td>40 to 60 percent</td>\n",
       "      <td>Some high school</td>\n",
       "      <td>None</td>\n",
       "      <td>Not ascertained</td>\n",
       "      <td>None</td>\n",
       "      <td>8.0</td>\n",
       "      <td>1.0</td>\n",
       "      <td>1.0</td>\n",
       "      <td>4.0</td>\n",
       "      <td>7.0</td>\n",
       "      <td>0</td>\n",
       "    </tr>\n",
       "    <tr>\n",
       "      <th>1</th>\n",
       "      <td>0.0</td>\n",
       "      <td>0</td>\n",
       "      <td>Black</td>\n",
       "      <td>Non-Hispanic</td>\n",
       "      <td>3.0</td>\n",
       "      <td>first_quartile</td>\n",
       "      <td>Sex related offenses</td>\n",
       "      <td>Male</td>\n",
       "      <td>fourth_quartile</td>\n",
       "      <td>&gt;60 percent</td>\n",
       "      <td>High school (GED)</td>\n",
       "      <td>One</td>\n",
       "      <td>No drug abuse problem</td>\n",
       "      <td>None</td>\n",
       "      <td>8.0</td>\n",
       "      <td>2.0</td>\n",
       "      <td>1.0</td>\n",
       "      <td>8.0</td>\n",
       "      <td>98.0</td>\n",
       "      <td>1</td>\n",
       "    </tr>\n",
       "    <tr>\n",
       "      <th>2</th>\n",
       "      <td>0.0</td>\n",
       "      <td>0</td>\n",
       "      <td>Black</td>\n",
       "      <td>Non-Hispanic</td>\n",
       "      <td>3.0</td>\n",
       "      <td>first_quartile</td>\n",
       "      <td>Sex related offenses</td>\n",
       "      <td>Unknown</td>\n",
       "      <td>fourth_quartile</td>\n",
       "      <td>&gt;60 percent</td>\n",
       "      <td>Some high school</td>\n",
       "      <td>None</td>\n",
       "      <td>No drug abuse problem</td>\n",
       "      <td>None</td>\n",
       "      <td>8.0</td>\n",
       "      <td>2.0</td>\n",
       "      <td>1.0</td>\n",
       "      <td>1.0</td>\n",
       "      <td>98.0</td>\n",
       "      <td>2</td>\n",
       "    </tr>\n",
       "    <tr>\n",
       "      <th>3</th>\n",
       "      <td>0.0</td>\n",
       "      <td>0</td>\n",
       "      <td>Black</td>\n",
       "      <td>Non-Hispanic</td>\n",
       "      <td>1.0</td>\n",
       "      <td>first_quartile</td>\n",
       "      <td>Forcible Rape</td>\n",
       "      <td>Male</td>\n",
       "      <td>fourth_quartile</td>\n",
       "      <td>&lt;40 percent</td>\n",
       "      <td>Grade school</td>\n",
       "      <td>Two or more</td>\n",
       "      <td>No drug abuse problem</td>\n",
       "      <td>One</td>\n",
       "      <td>8.0</td>\n",
       "      <td>2.0</td>\n",
       "      <td>1.0</td>\n",
       "      <td>1.0</td>\n",
       "      <td>98.0</td>\n",
       "      <td>3</td>\n",
       "    </tr>\n",
       "    <tr>\n",
       "      <th>4</th>\n",
       "      <td>1.0</td>\n",
       "      <td>1</td>\n",
       "      <td>Black</td>\n",
       "      <td>Unknown</td>\n",
       "      <td>3.0</td>\n",
       "      <td>first_quartile</td>\n",
       "      <td>Residential</td>\n",
       "      <td>Male</td>\n",
       "      <td>first_quartile</td>\n",
       "      <td>&lt;40 percent</td>\n",
       "      <td>Some high school</td>\n",
       "      <td>None</td>\n",
       "      <td>Not ascertained</td>\n",
       "      <td>One</td>\n",
       "      <td>8.0</td>\n",
       "      <td>2.0</td>\n",
       "      <td>1.0</td>\n",
       "      <td>8.0</td>\n",
       "      <td>98.0</td>\n",
       "      <td>4</td>\n",
       "    </tr>\n",
       "  </tbody>\n",
       "</table>\n",
       "</div>"
      ],
      "text/plain": [
       "   felony_count  reoffend   race     ethnicity  case_weight     convictions  \\\n",
       "0           0.0         0  Black  Non-Hispanic          3.0  first_quartile   \n",
       "1           0.0         0  Black  Non-Hispanic          3.0  first_quartile   \n",
       "2           0.0         0  Black  Non-Hispanic          3.0  first_quartile   \n",
       "3           0.0         0  Black  Non-Hispanic          1.0  first_quartile   \n",
       "4           1.0         1  Black       Unknown          3.0  first_quartile   \n",
       "\n",
       "           offense_type      sex              age     time_employed  \\\n",
       "0         Miscellaneous     Male   first_quartile  40 to 60 percent   \n",
       "1  Sex related offenses     Male  fourth_quartile       >60 percent   \n",
       "2  Sex related offenses  Unknown  fourth_quartile       >60 percent   \n",
       "3         Forcible Rape     Male  fourth_quartile       <40 percent   \n",
       "4           Residential     Male   first_quartile       <40 percent   \n",
       "\n",
       "           education address_changes               drug_use prior_felonies  \\\n",
       "0   Some high school            None        Not ascertained           None   \n",
       "1  High school (GED)             One  No drug abuse problem           None   \n",
       "2   Some high school            None  No drug abuse problem           None   \n",
       "3       Grade school     Two or more  No drug abuse problem            One   \n",
       "4   Some high school            None        Not ascertained            One   \n",
       "\n",
       "   jail_imposed  previously_on_probation  jurisdiction  drug_treatment  \\\n",
       "0           8.0                      1.0           1.0             4.0   \n",
       "1           8.0                      2.0           1.0             8.0   \n",
       "2           8.0                      2.0           1.0             1.0   \n",
       "3           8.0                      2.0           1.0             1.0   \n",
       "4           8.0                      2.0           1.0             8.0   \n",
       "\n",
       "   previous_felony_type  index  \n",
       "0                   7.0      0  \n",
       "1                  98.0      1  \n",
       "2                  98.0      2  \n",
       "3                  98.0      3  \n",
       "4                  98.0      4  "
      ]
     },
     "execution_count": 35,
     "metadata": {},
     "output_type": "execute_result"
    }
   ],
   "source": [
    "df.head()"
   ]
  },
  {
   "cell_type": "code",
   "execution_count": 36,
   "metadata": {},
   "outputs": [
    {
     "data": {
      "text/plain": [
       "\"\\\\COPY clean FROM '/Users/Joe/Documents/Metis/Projects/metis-03-mcnulty/data/cleaned_data.csv' DELIMITER ',' CSV HEADER;\""
      ]
     },
     "execution_count": 36,
     "metadata": {},
     "output_type": "execute_result"
    }
   ],
   "source": [
    "r\"\\COPY clean FROM '/Users/Joe/Documents/Metis/Projects/metis-03-mcnulty/data/cleaned_data.csv' DELIMITER ',' CSV HEADER;\""
   ]
  },
  {
   "cell_type": "markdown",
   "metadata": {},
   "source": [
    "The above PSQL commands can be copy and pasted into the terminal. (Remove the first \\ from the copy command.)"
   ]
  }
 ],
 "metadata": {
  "kernelspec": {
   "display_name": "Python [conda root]",
   "language": "python",
   "name": "conda-root-py"
  },
  "language_info": {
   "codemirror_mode": {
    "name": "ipython",
    "version": 3
   },
   "file_extension": ".py",
   "mimetype": "text/x-python",
   "name": "python",
   "nbconvert_exporter": "python",
   "pygments_lexer": "ipython3",
   "version": "3.6.2"
  }
 },
 "nbformat": 4,
 "nbformat_minor": 2
}
